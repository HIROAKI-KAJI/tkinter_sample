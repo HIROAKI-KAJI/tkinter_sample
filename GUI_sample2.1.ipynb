{
 "cells": [
  {
   "cell_type": "code",
   "execution_count": 1,
   "id": "PtqPSNwPkOUo",
   "metadata": {
    "colab": {
     "base_uri": "https://localhost:8080/"
    },
    "executionInfo": {
     "elapsed": 258,
     "status": "ok",
     "timestamp": 1641542691047,
     "user": {
      "displayName": "Hiroaki Kaji",
      "photoUrl": "https://lh3.googleusercontent.com/a/default-user=s64",
      "userId": "00280222502784637082"
     },
     "user_tz": -540
    },
    "id": "PtqPSNwPkOUo",
    "outputId": "c369dfe1-13a5-435c-b589-aa475d7b446d"
   },
   "outputs": [
    {
     "name": "stdout",
     "output_type": "stream",
     "text": [
      "3.8.8 (default, Apr 13 2021, 15:08:03) [MSC v.1916 64 bit (AMD64)]\n"
     ]
    }
   ],
   "source": [
    "import sys\n",
    "print(sys.version)"
   ]
  },
  {
   "cell_type": "markdown",
   "id": "ed796f59",
   "metadata": {
    "id": "ed796f59"
   },
   "source": [
    "# main_code"
   ]
  },
  {
   "cell_type": "markdown",
   "id": "99f1dd1b",
   "metadata": {
    "id": "99f1dd1b"
   },
   "source": [
    "注意事項  \n",
    "- \"_\"を前につけてある関数等を書き換えると動作しなくなることがあるので、refarence等を読んでから書き換えるなどの操作をしてください。  \n",
    "- ※Quit のボタンがありますがAnacondaのjupyter notebook だとwindow閉じることができずErrerが出ます、右上の✕で閉じてください。 Ubntu等のpythonで実行するときは使えます。"
   ]
  },
  {
   "cell_type": "code",
   "execution_count": 3,
   "id": "287168b1",
   "metadata": {
    "colab": {
     "base_uri": "https://localhost:8080/",
     "height": 397
    },
    "executionInfo": {
     "elapsed": 660,
     "status": "error",
     "timestamp": 1641541398807,
     "user": {
      "displayName": "Hiroaki Kaji",
      "photoUrl": "https://lh3.googleusercontent.com/a/default-user=s64",
      "userId": "00280222502784637082"
     },
     "user_tz": -540
    },
    "id": "287168b1",
    "outputId": "e0968bdb-89fd-4243-8654-42a1bc4fd2f6"
   },
   "outputs": [],
   "source": [
    "from tkinter import *\n",
    "from tkinter import ttk\n",
    "import tkinter.font\n",
    "\n",
    "#Style_Setting=======================================\n",
    "Style = ttk.Style()\n",
    "Style.configure(\"M1.TFrame\",background = \"#6ac9f4\")\n",
    "Style.configure(\"User.TFrame\",background = \"#c7f9fd\")\n",
    "Style.configure(\"UseFrame.TLabelframe\",background = \"#fff\")#親要素\n",
    "Style.configure(\"UseFrame.TLabelframe.Label\",background=\"#fff\",foreground=\"#000\")#子要素\n",
    "Style.configure(\"FS4.TFrame\",background = \"#ebebeb\")\n",
    "\n",
    "Style.configure(\"ttkS.TLabel\",background =\"black\",foreground = \"white\" )\n",
    "#====================================================\n",
    "class _MainFrame(Frame):\n",
    "    def __init__(self,master=None):\n",
    "        Frame.__init__(self,master)\n",
    "        \n",
    "        self.master.minsize(width = 320,height = 180)\n",
    "        self.grid(sticky=N+S+E+W)\n",
    "        self.name = StringVar()\n",
    "        \n",
    "        self.name = \"GUI\"#windowの名前\n",
    "        #instances=====================================\n",
    "        #==============================================\n",
    "        self._MainSet()\n",
    "        self._SetWidgets()\n",
    "        \n",
    "    def _SetWidgets(self):\n",
    "        #define_widgets=========================================\n",
    "        self._MakeFrame(\"sample\")\n",
    "        self._MakeFrame(\"F1\")\n",
    "        self.Switch_Frame(\"sample\")\n",
    "        \n",
    "        self.sample.B = Button(self.sample,text = \"apper F1\",command=self.callF1)\n",
    "        self.sample.B.grid(row=0,column=0)\n",
    "        self.F1.B = Button(self.F1,text = \"apper sample\",command=self.callsample)\n",
    "        self.F1.B.grid(row=0,column=0)\n",
    "        #=======================================================\n",
    "    def _MainSet(self):\n",
    "        Top=self.winfo_toplevel()\n",
    "        Top.configure(bg=\"\")\n",
    "        Top.grid_columnconfigure(0,weight=1)\n",
    "        Top.grid_rowconfigure(2,weight=1)\n",
    "        self.H1 = ttk.Frame(Top,padding=4)\n",
    "        self.H1.grid(row=0,sticky=N+E+W+S)\n",
    "        \n",
    "        self.H1.grid_columnconfigure(0, weight=0)\n",
    "        self.H1.grid_columnconfigure(1, weight=1)\n",
    "        self.H1.grid_columnconfigure(2, weight=0)\n",
    "        \n",
    "        Name_Font = tkinter.font.Font(family = \"Menlo\",size = 16,weight = tkinter.font.BOLD)\n",
    "        self.H1.Name = Label(self.H1,text = self.name,font = Name_Font).grid(row=0,column=0, sticky=E)\n",
    "        self.H1.Text = Label(self.H1,text = \"label\",font = tkinter.font.Font(size = 10)).grid(row=0,column=1, sticky=W)\n",
    "        self.H1.Quitbutton = Button(self.H1,text=\"Quit\",command = self.quit).grid(row=0,column=2, sticky=W)\n",
    "        \n",
    "        self.M1 = ttk.Frame(Top,style = \"M1.TFrame\")\n",
    "        self.M1.grid(row = 1,sticky=N+E+W+S)\n",
    "        self.M1.count = 0\n",
    "        \n",
    "        self.UserFrame = ttk.Frame(Top,padding = [5,0],style =\"User.TFrame\" )\n",
    "        self.UserFrame.grid(row = 2,column = 0,sticky = N+E+W+S)\n",
    "        self.UserFrame.grid_rowconfigure(0, weight=1)\n",
    "        self.UserFrame.grid_columnconfigure(0, weight=1)\n",
    "\n",
    "    def _MakeFrame(self,name):\n",
    "        self._OffPalse()\n",
    "        code0 = \"self.\"+ name + \"= ttk.LabelFrame(self.UserFrame,style=\\\"UseFrame.TLabelframe\\\",text=\\\"\"+name+\"\\\",padding=[0,5],relief=\\\"flat\\\")\"\n",
    "        code1 = \"self.\"+ name + \".grid(row=0,column=0,sticky = N+E+W+S)\"\n",
    "        exec(code0)\n",
    "        exec(code1)\n",
    "        self._M1button(name)\n",
    "    def _M1button(self,Frame):\n",
    "        code0 = \"self.M1.\"+Frame+\"=Button(self.M1,text=\"+\"\\\"\"+Frame+\"\\\",command = self._combineFunc(self._OffPalse,self.\"+Frame+\".grid))\"\n",
    "        code1 = \"self.M1.\"+Frame+\".grid(row = 0,column=\"+str(self.M1.count)+\")\"\n",
    "        code2 = \"self.M1.\"+Frame+\".column=\"+str(self.M1.count)\n",
    "        code3 = \"self.M1.\"+Frame+\".state=\\\"Appear\\\"\"\n",
    "        code4 = \"self.M1.\"+Frame+\".freame=\\\"self.UserFrame.\"+Frame+\"\\\"\"\n",
    "        exec(code0)\n",
    "        exec(code1)\n",
    "        exec(code2)\n",
    "        exec(code3)\n",
    "        exec(code4)\n",
    "        self.M1.count += 1\n",
    "    def _OffPalse(self):\n",
    "        widgetlist = self.UserFrame.grid_slaves()\n",
    "        for wid in widgetlist:\n",
    "            wid.grid_remove()\n",
    "    def _combineFunc(self, *funcs):\n",
    "       def combinedFunc(*args, **kwargs):\n",
    "            for f in funcs:\n",
    "                f(*args, **kwargs)\n",
    "       return combinedFunc\n",
    "    #User_commands1===================================\n",
    "    def Switch_Frame(self,Frame):\n",
    "        self._OffPalse()\n",
    "        code0 = \"self.\"+Frame+\".grid()\"\n",
    "        exec(code0)\n",
    "        \n",
    "    def callF1(self):\n",
    "        self.Switch_Frame(\"F1\")\n",
    "    def callsample(self):\n",
    "        self.Switch_Frame(\"sample\")\n",
    "    #================================================\n",
    "\n",
    "\n",
    "#User_commands2===================================\n",
    "def test():\n",
    "    print(\"test\")\n",
    "#================================================\n",
    "\n",
    "_app = _MainFrame()\n",
    "_app.master.title(_app.name)\n",
    "_app.mainloop()"
   ]
  },
  {
   "cell_type": "markdown",
   "id": "4a12bb13",
   "metadata": {
    "id": "4a12bb13"
   },
   "source": [
    "# Frameを作成する関数　_MakeFrame"
   ]
  },
  {
   "cell_type": "markdown",
   "id": "4f463f68",
   "metadata": {
    "id": "4f463f68"
   },
   "source": [
    "基本構文  \n",
    "self._MakeFrame(\"name\")\n",
    "\n",
    "name につけたい名前を入れるとそのフレームが作成される。(名前は基本何でもよいが、漢字、ひらがななどの全角文字(対応しているが使えない文字があるかも)、また、トークンとかぶると誤動作する可能性があります。)  \n",
    "フレームの上に呼び出す用のボタンが作成される。"
   ]
  },
  {
   "cell_type": "markdown",
   "id": "95748267",
   "metadata": {
    "id": "95748267"
   },
   "source": [
    "define_widgetsのところに書く、ここで定義するフレームに対してwidget(button や textなど)を紐づけていく。"
   ]
  },
  {
   "cell_type": "code",
   "execution_count": null,
   "id": "26ca68d8",
   "metadata": {
    "id": "26ca68d8"
   },
   "outputs": [],
   "source": [
    "        self._MakeFrame(\"sample\")"
   ]
  },
  {
   "cell_type": "markdown",
   "id": "29130f9f",
   "metadata": {
    "id": "29130f9f"
   },
   "source": [
    "# widgetのサンプルを幾つか例示する。"
   ]
  },
  {
   "cell_type": "markdown",
   "id": "d3ce1511",
   "metadata": {
    "id": "d3ce1511"
   },
   "source": [
    "- *1 はstyle_settingのところに張り付けると利用できる\n",
    "- *2 はdefine_widgetsのところに張り付ける。\n",
    "- *3 はUser_commands1のところに張り付ける。_MainFrame内の値を使う関数はここに書く方が扱いやすいと思います。(自分が利用したい関数などもここに書く)\n",
    "- *4 はUser_commands2のところに張り付ける。(自分が利用したい関数などもここに書く)\n",
    "- より詳しいoption等は、[reference](#reference)を参照してください。"
   ]
  },
  {
   "cell_type": "markdown",
   "id": "8a40966e",
   "metadata": {
    "id": "8a40966e"
   },
   "source": [
    "## Button"
   ]
  },
  {
   "cell_type": "markdown",
   "id": "0629cf62",
   "metadata": {
    "id": "0629cf62"
   },
   "source": [
    "基本構文  \n",
    "w = Button(parent,option = \"val\",...)\n",
    "\n",
    "主なoption\n",
    "\n",
    "|option名|例文|説明等|\n",
    "|-|-|-|\n",
    "|text|text = \"text\"||\n",
    "|command|command =func |ボタンを押したとき実行する関数を設定する。この時、ここで設定するのは、実行する関数、\"command = func()\"のようにすると、ここで関数が実行され、その値が呼び出される関数になる。関数に引数を与えたい場合は、class化するなどする必要がある。\n"
   ]
  },
  {
   "cell_type": "markdown",
   "id": "028a8764",
   "metadata": {
    "id": "028a8764"
   },
   "source": [
    "\"sample\"という名前のフレームを作成し、そこに\"Button1\"を作成、その後\"sample\"の一行(row=0)一列目(column=0)に配置する。"
   ]
  },
  {
   "cell_type": "markdown",
   "id": "f627660b",
   "metadata": {
    "id": "f627660b"
   },
   "source": [
    "*2"
   ]
  },
  {
   "cell_type": "code",
   "execution_count": null,
   "id": "d59a7142",
   "metadata": {
    "id": "d59a7142",
    "scrolled": false
   },
   "outputs": [],
   "source": [
    "        self._MakeFrame(\"sample\")\n",
    "        self.sample.Button1 = Button(self.sample,text=\"test\",command=test)\n",
    "        self.sample.Button1.grid(row=0,column=0)"
   ]
  },
  {
   "cell_type": "markdown",
   "id": "348725fd",
   "metadata": {
    "id": "348725fd"
   },
   "source": [
    "*4"
   ]
  },
  {
   "cell_type": "code",
   "execution_count": null,
   "id": "3d654a41",
   "metadata": {
    "id": "3d654a41"
   },
   "outputs": [],
   "source": [
    "def test():\n",
    "    print(\"test\")"
   ]
  },
  {
   "cell_type": "markdown",
   "id": "6a033806",
   "metadata": {
    "id": "6a033806"
   },
   "source": [
    "### 複数の関数を呼び出したいとき"
   ]
  },
  {
   "cell_type": "markdown",
   "id": "13244da2",
   "metadata": {
    "id": "13244da2"
   },
   "source": [
    "実行順序はfunc1 -> func2の順になる。"
   ]
  },
  {
   "cell_type": "code",
   "execution_count": null,
   "id": "ce078762",
   "metadata": {
    "id": "ce078762"
   },
   "outputs": [],
   "source": [
    "command=self._combineFunc(func1,func2)"
   ]
  },
  {
   "cell_type": "markdown",
   "id": "7c1d885b",
   "metadata": {
    "id": "7c1d885b"
   },
   "source": [
    "## text Label"
   ]
  },
  {
   "cell_type": "markdown",
   "id": "10fc2c39",
   "metadata": {
    "id": "10fc2c39"
   },
   "source": [
    "基本構文  \n",
    "w = Label(parent,option = \"val\",...)\n",
    "\n",
    "主なoption\n",
    "\n",
    "|option名|例文|説明等|\n",
    "|-|-|-|\n",
    "|text|text = \"text\"|文字表示|\n",
    "|textvariable|textvariable =text |textvariableは\"StringVar\"で定義する。  textvariableの中身を決定するときは、w.set()、中身を取り出すときはx.get()で取り出せる。|"
   ]
  },
  {
   "cell_type": "markdown",
   "id": "2f5123ca",
   "metadata": {
    "id": "2f5123ca"
   },
   "source": [
    "*2"
   ]
  },
  {
   "cell_type": "code",
   "execution_count": null,
   "id": "31f93973",
   "metadata": {
    "id": "31f93973"
   },
   "outputs": [],
   "source": [
    "        self._MakeFrame(\"sample\")\n",
    "        self.sample.Label1 = Label(self.sample,text=\"test\",command=test)\n",
    "        self.sample.Label1.grid(row=0,column=0)"
   ]
  },
  {
   "cell_type": "markdown",
   "id": "4e506025",
   "metadata": {
    "id": "4e506025"
   },
   "source": [
    "## Entry"
   ]
  },
  {
   "cell_type": "markdown",
   "id": "040db8e0",
   "metadata": {
    "id": "040db8e0"
   },
   "source": [
    "基本構文  \n",
    "w = Entry(parent,option = \"val\",...)\n",
    "\n",
    "主なoption\n",
    "\n",
    "|option名|例文|説明等|\n",
    "|-|-|-|\n",
    "|text|text = \"text\"||\n",
    "|textvariable|textvariable =text |textvariableは\"StringVar\"で定義する。  textvariableの中身を決定するときは、w.set()、中身を取り出すときはx.get()で取り出せる。|\n"
   ]
  },
  {
   "cell_type": "markdown",
   "id": "8b46cfd1",
   "metadata": {
    "id": "8b46cfd1"
   },
   "source": [
    "instanceにself.textを追加、StringVar()で定義しておく。"
   ]
  },
  {
   "cell_type": "code",
   "execution_count": null,
   "id": "d8002e14",
   "metadata": {
    "id": "d8002e14"
   },
   "outputs": [],
   "source": [
    "        self.text = StringVar()"
   ]
  },
  {
   "cell_type": "markdown",
   "id": "d2a54a54",
   "metadata": {
    "id": "d2a54a54"
   },
   "source": [
    "*2"
   ]
  },
  {
   "cell_type": "code",
   "execution_count": null,
   "id": "3fe4fc0c",
   "metadata": {
    "id": "3fe4fc0c"
   },
   "outputs": [],
   "source": [
    "        self._MakeFrame(\"sample\")\n",
    "        self.sample.Entry1 = Entry(self.sample,textvariable=self.text,command=test)\n",
    "        self.sample.Entry1.grid(row=0,column=0)\n",
    "        \n",
    "        #取得できたかどうかの確認用のButtan\n",
    "        self.sample.Button2 = Button(self.sample,textvariable=self.text,command=self.textprint)\n",
    "        self.sample.Button2.grid(row=0,column=1)"
   ]
  },
  {
   "cell_type": "markdown",
   "id": "b4b963e6",
   "metadata": {
    "id": "b4b963e6"
   },
   "source": [
    "*3"
   ]
  },
  {
   "cell_type": "code",
   "execution_count": null,
   "id": "eea89bf6",
   "metadata": {
    "id": "eea89bf6"
   },
   "outputs": [],
   "source": [
    "def textprint(self):\n",
    "    print(self.sample.Entry1.get())"
   ]
  },
  {
   "cell_type": "markdown",
   "id": "91448bda",
   "metadata": {
    "id": "91448bda"
   },
   "source": [
    "### Entryにスクロールバーをつけたいとき"
   ]
  },
  {
   "cell_type": "markdown",
   "id": "8f8ba141",
   "metadata": {
    "id": "8f8ba141"
   },
   "source": [
    "*2"
   ]
  },
  {
   "cell_type": "code",
   "execution_count": null,
   "id": "13613e77",
   "metadata": {
    "id": "13613e77"
   },
   "outputs": [],
   "source": [
    "        self.sample.entryScroll = Scrollbar(self.sample, orient=HORIZONTAL,command=self.__scrollHandler)\n",
    "        self.sample.entryScroll.grid(row=1,column=0, sticky=E+W)#Entryの下に配置する。\n",
    "        self.sample.Entry1['xscrollcommand'] = self.sample.entryScroll.set"
   ]
  },
  {
   "cell_type": "markdown",
   "id": "6da957e3",
   "metadata": {
    "id": "6da957e3"
   },
   "source": [
    "*3"
   ]
  },
  {
   "cell_type": "code",
   "execution_count": null,
   "id": "5ce951db",
   "metadata": {
    "id": "5ce951db"
   },
   "outputs": [],
   "source": [
    "    def __scrollHandler(self, *L):\n",
    "        op, howMany = L[0], L[1]\n",
    "        if op == 'scroll':\n",
    "            units = L[2]\n",
    "            self.sample.Entry1.xview_scroll(howMany, units)\n",
    "        elif op == 'moveto':\n",
    "            self.sample.Entry1.xview_moveto(howMany)"
   ]
  },
  {
   "cell_type": "markdown",
   "id": "c9b0733b",
   "metadata": {
    "id": "c9b0733b"
   },
   "source": [
    "## Checkbutton"
   ]
  },
  {
   "cell_type": "markdown",
   "id": "e21c25e1",
   "metadata": {
    "id": "e21c25e1"
   },
   "source": [
    "基本構文  \n",
    "w = Checkbutton(parent, option=val, ...)  \n",
    "\n",
    "w.get()及びw.set()で\"True\",\"False\"のブール値を取得及び設定できる。  \n",
    "w.select()でon状態にできる。  \n",
    "w.toggle()でon,off状態を切り替えれる。"
   ]
  },
  {
   "cell_type": "markdown",
   "id": "4ff71933",
   "metadata": {
    "id": "4ff71933"
   },
   "source": [
    "主なoption\n",
    "\n",
    "|option名|例文|説明等|\n",
    "|-|-|-|\n",
    "|text|text = \"text\"|文字表示|\n",
    "|command|command=func|クリックしたときに呼び出す関数|"
   ]
  },
  {
   "cell_type": "markdown",
   "id": "164a9c2b",
   "metadata": {
    "id": "164a9c2b"
   },
   "source": [
    "*2"
   ]
  },
  {
   "cell_type": "code",
   "execution_count": null,
   "id": "3886e548",
   "metadata": {
    "id": "3886e548"
   },
   "outputs": [],
   "source": [
    "        self._MakeFrame(\"sample\")\n",
    "        self.sample.CB = Checkbutton(self.sample, text = \"on\",command=test)\n",
    "        self.sample.CB.grid(row=1,column=0, sticky=E+W)"
   ]
  },
  {
   "cell_type": "markdown",
   "id": "d265601c",
   "metadata": {
    "id": "d265601c"
   },
   "source": [
    "*4"
   ]
  },
  {
   "cell_type": "code",
   "execution_count": null,
   "id": "b0218135",
   "metadata": {
    "id": "b0218135"
   },
   "outputs": [],
   "source": [
    "def test():\n",
    "    print(\"test\")"
   ]
  },
  {
   "cell_type": "markdown",
   "id": "43139a72",
   "metadata": {
    "id": "43139a72"
   },
   "source": [
    "## Frame"
   ]
  },
  {
   "cell_type": "markdown",
   "id": "06a134b2",
   "metadata": {
    "id": "06a134b2"
   },
   "source": [
    "widgetの入れ物となれるもの、主にwidgetをまとめるときに用いる。あくまで枠なので、中身を設定しないと描画されない。\n",
    "\n",
    "w = Frame(parent,option=val,...)"
   ]
  },
  {
   "cell_type": "markdown",
   "id": "4b990b94",
   "metadata": {
    "id": "4b990b94"
   },
   "source": [
    "*2"
   ]
  },
  {
   "cell_type": "code",
   "execution_count": null,
   "id": "fd15f438",
   "metadata": {
    "id": "fd15f438"
   },
   "outputs": [],
   "source": [
    "        self._MakeFrame(\"sample\")\n",
    "        self.sample.F = Frame(self.sample,bg=\"#E1ECF4\")\n",
    "        self.sample.F.grid(row=1,column=0, sticky=E+W)\n",
    "        \n",
    "        #中身\n",
    "        self.T1 = Label(self.sample.F,text=\"sample\").grid(row=0,column=0)\n",
    "        self.B1 = Button(self.sample.F,text=\"button\").grid(row=0,column=1,padx=10,pady=5)\n",
    "        self.E1 = Entry(self.sample.F).grid(row=1,column=0)"
   ]
  },
  {
   "cell_type": "markdown",
   "id": "657d74b6",
   "metadata": {
    "id": "657d74b6"
   },
   "source": [
    "以下、必要があれば追記します。"
   ]
  },
  {
   "cell_type": "markdown",
   "id": "028a6a21",
   "metadata": {
    "id": "028a6a21"
   },
   "source": [
    "##  Listbox widget"
   ]
  },
  {
   "cell_type": "markdown",
   "id": "000c2a67",
   "metadata": {
    "id": "000c2a67"
   },
   "source": [
    "文字の配列を表示できる。標準では10個まででそれ以上を表示する場合は、改変が必要。"
   ]
  },
  {
   "cell_type": "markdown",
   "id": "7745b454",
   "metadata": {
    "id": "7745b454"
   },
   "source": [
    "w = Listbox(parent, option, ...)"
   ]
  },
  {
   "cell_type": "markdown",
   "id": "936739cd",
   "metadata": {
    "id": "936739cd"
   },
   "source": [
    "## Menu widget"
   ]
  },
  {
   "cell_type": "markdown",
   "id": "df6cbdec",
   "metadata": {
    "id": "df6cbdec"
   },
   "source": [
    "ドロップダウンメニューの作成"
   ]
  },
  {
   "cell_type": "markdown",
   "id": "dd34eee4",
   "metadata": {
    "id": "dd34eee4"
   },
   "source": [
    "w = Menu(mb, option, ...)"
   ]
  },
  {
   "cell_type": "markdown",
   "id": "fcdc862e",
   "metadata": {
    "id": "fcdc862e"
   },
   "source": [
    "##  Top-level menus"
   ]
  },
  {
   "cell_type": "markdown",
   "id": "6077587a",
   "metadata": {
    "id": "6077587a"
   },
   "source": [
    "windowの上側に表示されるメニュー欄などの設定"
   ]
  },
  {
   "cell_type": "code",
   "execution_count": null,
   "id": "0f28ab15",
   "metadata": {
    "id": "0f28ab15"
   },
   "outputs": [],
   "source": [
    "top = self.winfo_toplevel()\n",
    "self.menuBar = tk.Menu(top)\n",
    "top['menu'] = self.menuBar\n",
    "self.subMenu = tk.Menu(self.menuBar)\n",
    "self.menuBar.add_cascade(label='Help', menu=self.subMenu)\n",
    "self.subMenu.add_command(label='About', command=self.__aboutHandler)"
   ]
  },
  {
   "cell_type": "markdown",
   "id": "3c0cf6c7",
   "metadata": {
    "id": "3c0cf6c7"
   },
   "source": [
    "## Menubutton"
   ]
  },
  {
   "cell_type": "code",
   "execution_count": null,
   "id": "7da52aef",
   "metadata": {
    "id": "7da52aef"
   },
   "outputs": [],
   "source": [
    "w = Menubutton(parent, option, ...)"
   ]
  },
  {
   "cell_type": "code",
   "execution_count": null,
   "id": "36a3273e",
   "metadata": {
    "id": "36a3273e"
   },
   "outputs": [],
   "source": [
    "self.mb = tk.Menubutton(self, text='condiments',\n",
    "relief=RAISED)\n",
    "self.mb.grid()\n",
    "self.mb.menu = tk.Menu(self.mb, tearoff=0)\n",
    "self.mb['menu'] = self.mb.menu\n",
    "self.mayoVar = tk.IntVar()\n",
    "self.ketchVar = tk.IntVar()\n",
    "self.mb.menu.add_checkbutton(label='mayo',\n",
    "variable=self.mayoVar)\n",
    "self.mb.menu.add_checkbutton(label='ketchup',\n",
    "variable=self.ketchVar)"
   ]
  },
  {
   "cell_type": "markdown",
   "id": "8b6a319d",
   "metadata": {
    "id": "8b6a319d"
   },
   "source": [
    "## The Message widget"
   ]
  },
  {
   "cell_type": "markdown",
   "id": "da44000c",
   "metadata": {
    "id": "da44000c"
   },
   "source": [
    "メッセージウィンドウを表示する。"
   ]
  },
  {
   "cell_type": "code",
   "execution_count": null,
   "id": "78463190",
   "metadata": {
    "id": "78463190"
   },
   "outputs": [],
   "source": [
    "w = Message(parent, option, ...)"
   ]
  },
  {
   "cell_type": "markdown",
   "id": "ad580a78",
   "metadata": {
    "id": "ad580a78"
   },
   "source": [
    "##  The PanedWindow widget"
   ]
  },
  {
   "cell_type": "code",
   "execution_count": null,
   "id": "6134920e",
   "metadata": {
    "id": "6134920e"
   },
   "outputs": [],
   "source": [
    "w = PanedWindow(parent, option, ...)"
   ]
  },
  {
   "cell_type": "markdown",
   "id": "333b9f84",
   "metadata": {
    "id": "333b9f84"
   },
   "source": [
    "## The Scale widget"
   ]
  },
  {
   "cell_type": "markdown",
   "id": "dec9c830",
   "metadata": {
    "id": "dec9c830"
   },
   "source": [
    "可変ボリュームの作成(ttk)"
   ]
  },
  {
   "cell_type": "code",
   "execution_count": null,
   "id": "55a7bc7a",
   "metadata": {
    "id": "55a7bc7a"
   },
   "outputs": [],
   "source": [
    " w = ttk.Scale(parent, option=value, ...)"
   ]
  },
  {
   "attachments": {
    "%E3%82%B3%E3%83%A1%E3%83%B3%E3%83%88%202022-06-16%20192014.jpg": {
     "image/jpeg": "[encoded data removed]"
    }
   },
   "cell_type": "markdown",
   "id": "c92a1707",
   "metadata": {},
   "source": [
    "![%E3%82%B3%E3%83%A1%E3%83%B3%E3%83%88%202022-06-16%20192014.jpg](attachment:%E3%82%B3%E3%83%A1%E3%83%B3%E3%83%88%202022-06-16%20192014.jpg)"
   ]
  },
  {
   "cell_type": "code",
   "execution_count": 4,
   "id": "ed95aa7d",
   "metadata": {},
   "outputs": [],
   "source": [
    "from tkinter import *\n",
    "from tkinter import ttk\n",
    "root = Tk()\n",
    "\n",
    "num = IntVar()\n",
    "text = StringVar()\n",
    "ratelist = [\"1/2\",\n",
    "           \"1/3\",\n",
    "           \"1/4\",\n",
    "           \"1/5\",\n",
    "           \"1/6\"]\n",
    "\n",
    "def ReFl(_):\n",
    "    scalenum = num.get()\n",
    "    if scalenum > 0:\n",
    "        text.set(ratelist[scalenum-1])\n",
    "    else:\n",
    "        text.set(f\"{scalenum+1}\")\n",
    "\n",
    "root.f =Scale(root,\n",
    "                  length = 1000,\n",
    "                  variable = num,\n",
    "                  orient=HORIZONTAL,\n",
    "                  takefocus=False,\n",
    "                  resolution=1,\n",
    "                  showvalue =False,\n",
    "                  from_=-5,\n",
    "                  to=5,\n",
    "                 command=ReFl)\n",
    "\n",
    "\n",
    "root.t = Label(root,textvariable = text)\n",
    "\n",
    "root.f.grid()\n",
    "root.t.grid()\n",
    "root.mainloop()"
   ]
  },
  {
   "cell_type": "markdown",
   "id": "b1d87868",
   "metadata": {
    "id": "b1d87868"
   },
   "source": [
    "# 便利関数例"
   ]
  },
  {
   "cell_type": "markdown",
   "id": "03cb4818",
   "metadata": {
    "id": "03cb4818"
   },
   "source": [
    "## Switch_Frame フレームの切り替え関数"
   ]
  },
  {
   "cell_type": "markdown",
   "id": "a1e40cb7",
   "metadata": {
    "id": "a1e40cb7"
   },
   "source": [
    "呼び出したいフレームの名前を引数に与えれば、そのフレーム(_MakeFrameで作ったフレーム)を呼び出すことが出来る。"
   ]
  },
  {
   "cell_type": "markdown",
   "id": "3ea1c8c4",
   "metadata": {
    "id": "3ea1c8c4"
   },
   "source": [
    "*3"
   ]
  },
  {
   "cell_type": "code",
   "execution_count": null,
   "id": "3124adc0",
   "metadata": {
    "id": "3124adc0"
   },
   "outputs": [],
   "source": [
    "    def Switch_Frame(self.Frame):\n",
    "        self._OffPalse\n",
    "        code0 = \"self.\"+Frame+\".grid\"\n",
    "        exec(code0)\n",
    "    #buttonのcommandでは引数を与えられないのでbuttanで使うときは、それぞれ以下のような関数を作成して呼び出してください。  \n",
    "    def callF1(self):\n",
    "        Switch_Frame(\"F1\")"
   ]
  },
  {
   "cell_type": "markdown",
   "id": "77aed639",
   "metadata": {
    "id": "77aed639"
   },
   "source": [
    "使用例"
   ]
  },
  {
   "cell_type": "markdown",
   "id": "2dbb4cf1",
   "metadata": {
    "id": "2dbb4cf1"
   },
   "source": [
    "初めにsampleのフレームを表示し、ボタンが押されるとF1に切り替わる。"
   ]
  },
  {
   "cell_type": "markdown",
   "id": "b8a7664f",
   "metadata": {
    "id": "b8a7664f"
   },
   "source": [
    "*2"
   ]
  },
  {
   "cell_type": "code",
   "execution_count": null,
   "id": "0c11db82",
   "metadata": {
    "id": "0c11db82"
   },
   "outputs": [],
   "source": [
    "        self._MakeFrame(\"sample\")\n",
    "        self._MakeFrame(\"F1\")\n",
    "        self.Switch_Frame(\"sample\")\n",
    "        \n",
    "        self.sample.B = Button(self.sample,text = \"apper F1\",command=self.callF1)\n",
    "        self.sample.B.grid(row=0,column=0)\n",
    "        self.F1.B = Button(self.F1,text = \"apper sample\",command=self.callsample)\n",
    "        self.F1.B.grid(row=0,column=0)"
   ]
  },
  {
   "cell_type": "markdown",
   "id": "ebf2468b",
   "metadata": {
    "id": "ebf2468b"
   },
   "source": [
    "*3"
   ]
  },
  {
   "cell_type": "code",
   "execution_count": null,
   "id": "2b4e0ad6",
   "metadata": {
    "id": "2b4e0ad6"
   },
   "outputs": [],
   "source": [
    "    def Switch_Frame(self,Frame):\n",
    "        #self._OffPalse()\n",
    "        code0 = \"self.\"+Frame+\".grid()\"\n",
    "        exec(code0)\n",
    "        \n",
    "    def callF1(self):\n",
    "        self.Switch_Frame(\"F1\")\n",
    "    def callsample(self):\n",
    "        self.Switch_Frame(\"sample\")"
   ]
  },
  {
   "cell_type": "markdown",
   "id": "9a67e1ca",
   "metadata": {
    "id": "9a67e1ca"
   },
   "source": [
    "_MakeFrame のself._M1button(name)を以下のようにコメントアウトすれば、動作チェック用のボタンの表示を消せます。"
   ]
  },
  {
   "cell_type": "code",
   "execution_count": null,
   "id": "0ed2ec0d",
   "metadata": {
    "id": "0ed2ec0d"
   },
   "outputs": [],
   "source": [
    "    def _MakeFrame(self,name):\n",
    "        self._OffPalse()\n",
    "        code0 = \"self.\"+ name + \"= ttk.LabelFrame(self.UserFrame,style=\\\"UseFrame.TLabelframe\\\",text=\\\"\"+name+\"\\\",padding=[0,5],relief=\\\"flat\\\")\"\n",
    "        code1 = \"self.\"+ name + \".grid(row=0,column=0,sticky = N+E+W+S)\"\n",
    "        exec(code0)\n",
    "        exec(code1)\n",
    "        #self._M1button(name)"
   ]
  },
  {
   "cell_type": "markdown",
   "id": "18b0baac",
   "metadata": {},
   "source": [
    "## ディレクトリパスの取得"
   ]
  },
  {
   "cell_type": "code",
   "execution_count": null,
   "id": "ea3072fb",
   "metadata": {},
   "outputs": [],
   "source": []
  },
  {
   "cell_type": "markdown",
   "id": "04d8b1e7",
   "metadata": {
    "id": "04d8b1e7"
   },
   "source": [
    "# 配置について"
   ]
  },
  {
   "cell_type": "markdown",
   "id": "cc799601",
   "metadata": {
    "id": "cc799601"
   },
   "source": [
    "tk でのwidgetの配置方法（ジオメトリーマネージャ）は３つある。  \n",
    "1つ目が行と列を決め、その何行何列目に配置するのか決める .grid()  \n",
    "2つ目が直接親となるところに１次元的に配置する .pack()  \n",
    "3つ目が親の左上の座標を原点とし、座標で設定する .place()  \n",
    "\n",
    "このプログラムでは、全体の親となる\"_MainFrame\"を.grid()で表示しており、複数を併用すると、混乱を招くので主に.grid()での配置法について記す。"
   ]
  },
  {
   "cell_type": "markdown",
   "id": "3ad693c6",
   "metadata": {
    "id": "3ad693c6"
   },
   "source": [
    "## .grid()"
   ]
  },
  {
   "cell_type": "markdown",
   "id": "dbe7b570",
   "metadata": {
    "id": "dbe7b570"
   },
   "source": [
    "基本構文\n",
    "w.grid(option=val,...)"
   ]
  },
  {
   "cell_type": "markdown",
   "id": "f2eed888",
   "metadata": {
    "id": "f2eed888"
   },
   "source": [
    "option 一覧　[[1]](#1)\n",
    "\n",
    "|option |説明 |例文|\n",
    "|-|-|-|\n",
    "|column\t    |配置する列です。|column=0|\n",
    "|row\t    |配置する行です。|row = 1|\n",
    "|columnspan\t|何列にわたって配置するかを指定します。デフォルトは 1 です。|columnspan=2|\n",
    "|rowspan\t|何行にわたって配置するかを指定します。デフォルトは 1 です。|rowspan=3|\n",
    "|padx\t    |外側の横の隙間(px値)を指定します。|padx=10|\n",
    "|pady\t    |外側の縦の隙間(px値)を指定します。|pady=10|\n",
    "|ipadx\t    |内側の横の隙間(px値)を指定します。|ipadx=10|\n",
    "|ipady\t    |内側の縦の隙間(px値)を指定します。|ipady=10|\n",
    "|sticky\t    |どこに寄せるのか決める。|sticky = N,sticky = N+S|"
   ]
  },
  {
   "cell_type": "markdown",
   "id": "23404f45",
   "metadata": {
    "id": "23404f45"
   },
   "source": [
    "### row column"
   ]
  },
  {
   "cell_type": "markdown",
   "id": "c14bdfc5",
   "metadata": {
    "id": "c14bdfc5"
   },
   "source": [
    "何行何列目に配置するか0行0列目から整数値で設定できる。"
   ]
  },
  {
   "cell_type": "markdown",
   "id": "0cf173cb",
   "metadata": {
    "id": "0cf173cb"
   },
   "source": [
    "### rowspan columnspan"
   ]
  },
  {
   "cell_type": "markdown",
   "id": "b961ef90",
   "metadata": {
    "id": "b961ef90"
   },
   "source": [
    "row columnで設定したところから何行分何列分を範囲とするのか決めることができる。  \n",
    ".grid(row = 2,column =1,rowspan = 3,columnspan=3)  \n",
    "とすると、2～4行1～3列、3x3の範囲をまとめることができる。\n",
    "\n",
    "幅を決めるだけなので、上記のように書いたうえで別のwidgetを  \n",
    ".grid(row=3,column=3)  \n",
    "で配置した場合上に重ねて表示される。"
   ]
  },
  {
   "cell_type": "markdown",
   "id": "2633f983",
   "metadata": {
    "id": "2633f983"
   },
   "source": [
    "### padx padx"
   ]
  },
  {
   "cell_type": "markdown",
   "id": "88d73cf1",
   "metadata": {
    "id": "88d73cf1"
   },
   "source": [
    "widgetの外側にどれくらいの空白を与えるのかｐｉｘｅl値で設定できる。"
   ]
  },
  {
   "cell_type": "markdown",
   "id": "b1b02f5c",
   "metadata": {
    "id": "b1b02f5c"
   },
   "source": [
    "### ipadx ipadx"
   ]
  },
  {
   "cell_type": "markdown",
   "id": "ee180914",
   "metadata": {
    "id": "ee180914"
   },
   "source": [
    "widgetの内側にどれくらいの空白を与えるのかｐｉｘｅl値で設定できる。\n",
    "\n",
    "button1は、\n",
    ".grid(padx=10,pady=5)  \n",
    "で配置し、  \n",
    "burron2は、\n",
    ".grid(ipadx=10,ipady=5)  \n",
    "で配置したときのボタンの表示↓（分かりやすいように背景は青にしている）"
   ]
  },
  {
   "cell_type": "markdown",
   "id": "44f0121c",
   "metadata": {
    "id": "44f0121c"
   },
   "source": [
    "![image.png](attachment:image.png)"
   ]
  },
  {
   "cell_type": "markdown",
   "id": "f467dea9",
   "metadata": {
    "id": "f467dea9"
   },
   "source": [
    "### sticky"
   ]
  },
  {
   "cell_type": "markdown",
   "id": "f584171b",
   "metadata": {
    "id": "f584171b"
   },
   "source": [
    "(上から右回りに北東南西”NWSE”組み合わせて、NE,SW)に寄せるのか決められる。  \n",
    "“N　E　W　S　NE　NW　SE　SW”はtkinter で定義されているので、from tkinter import tk のように書いたときは、tk.N,tk.SE　のように記述しないといけない。”N+E”の様に書くことも出来る。(本文では、\"from tkinter import *\"でtkを省略しています。)\n"
   ]
  },
  {
   "cell_type": "markdown",
   "id": "882a9bb9",
   "metadata": {
    "id": "882a9bb9"
   },
   "source": [
    "## grid の詳細設定"
   ]
  },
  {
   "cell_type": "markdown",
   "id": "8c15c003",
   "metadata": {
    "id": "8c15c003"
   },
   "source": [
    "配置には関係しないが、何か動作したときに表示から消したりするときの方法など、\n",
    "\n",
    "以下の文中のwはwigetを指します。"
   ]
  },
  {
   "cell_type": "markdown",
   "id": "3d5076f6",
   "metadata": {
    "id": "3d5076f6"
   },
   "source": [
    "### w.grid_info()\n",
    " wがどんなものなのか、wの行と列,ipadx,ipady、padx,pady,stickyの値を辞書型のデータで取得できる。(self.B1.grid_info())"
   ]
  },
  {
   "cell_type": "markdown",
   "id": "3eb9a440",
   "metadata": {
    "id": "3eb9a440"
   },
   "source": [
    "### w.grid_forget() (self.B1.info())\n",
    " wを表示から消す。.grid()がもう一度読まれると、再び表示されるが、前のrow,columnなどの値はJ保持しない（忘れる）(self.B1.forget())"
   ]
  },
  {
   "cell_type": "markdown",
   "id": "42f279c2",
   "metadata": {
    "id": "42f279c2"
   },
   "source": [
    "### w.grid_remove()\n",
    " wを表示から消す。.grid()がもう一度よまれると、前のrow,columnの値のまま、前と同じように表示される。(self.B1.grid_remove())"
   ]
  },
  {
   "cell_type": "markdown",
   "id": "19d85a04",
   "metadata": {
    "id": "19d85a04"
   },
   "source": [
    "### w.grid_slaves()\n",
    " wの中にあるwigetの一覧を取得できる。grid_slaves(row=2),grid_slsves(column=0)の様に指定すれば、その行、列内にあるwiget一覧を取得できる。"
   ]
  },
  {
   "cell_type": "markdown",
   "id": "1b1a7573",
   "metadata": {
    "id": "1b1a7573"
   },
   "source": [
    "### w.columnconfigure(N,opution=value,…), w.rowconfigure(N,opution=value,…)\n",
    "　N列(行)目に対して、以下に示す設定が出来る。"
   ]
  },
  {
   "cell_type": "markdown",
   "id": "9d938813",
   "metadata": {
    "id": "9d938813"
   },
   "source": [
    "option一覧"
   ]
  },
  {
   "cell_type": "markdown",
   "id": "b211745e",
   "metadata": {
    "id": "b211745e"
   },
   "source": [
    "#### minsize\n",
    "top-lebel-windowを縮小したとき、行(列)の最小の幅をpx値で設定できる。（デフォルト）"
   ]
  },
  {
   "cell_type": "markdown",
   "id": "5d453864",
   "metadata": {
    "id": "5d453864"
   },
   "source": [
    "#### pad \n",
    "行（列）の幅は基本その行(列)内にあるwigetの最大の大きさに依存するが、それに加えて余白を追加できる。(self.columnconfigure(2,pad=10))\n",
    "pad = [1,10],pad=[3,4,5,4]のように書くと左右と上下、左、上、右、下それぞれ設定できる。"
   ]
  },
  {
   "cell_type": "markdown",
   "id": "a4d3ad30",
   "metadata": {
    "id": "a4d3ad30"
   },
   "source": [
    "#### weight\n",
    "行(列)がどの程度top-lebel-windowの大きさ変更に追従するのかを決めれる、（大きさを可変にするには少し書き方の工夫がいる。次項に例を示す。）二つの行に対しこのオプションをつけたとき、1行目には”weight=1”二行目には”weight=2”と書いたとき、余った幅を一行目に3分の1、二行目に3分の2に分配する。このオプションをつけていないものの大きさは変化しない。"
   ]
  },
  {
   "cell_type": "markdown",
   "id": "19c5d670",
   "metadata": {
    "id": "19c5d670"
   },
   "source": [
    "## .pack()"
   ]
  },
  {
   "cell_type": "markdown",
   "id": "7ed6a66b",
   "metadata": {
    "id": "7ed6a66b"
   },
   "source": [
    "基本構文  \n",
    "w.pack(option=val,...)"
   ]
  },
  {
   "cell_type": "markdown",
   "id": "49b16c7b",
   "metadata": {
    "id": "49b16c7b"
   },
   "source": [
    "option一覧 [[1]](#1)\n",
    "\n",
    "|option| 説明|\n",
    "|-|-|\n",
    "|anchor|\t配置可能なスペースに余裕がある場合、Widget をどこに配置するか指定します。デフォルトは Tk.CENTER. stikyと同じものを使える。|\n",
    "|expand|\t親 widget が大きくなったとき、大きくなるかどうかを指定します。 1 を指定すると大きくなり、0 だとなりません。デフォルトは 0|\n",
    "|fill\t|widget が空いているスペースを埋めるかどうか指定します： Tk.NONE, 元のサイズを保持します。 Tk.X, 横に広がります。 Tk.Y, 縦に広がります。 Tk.BOTH, 縦横に広がります。|\n",
    "|padx\t|外側の横の隙間を指定します。|\n",
    "|pady\t|外側の縦の隙間を指定します。|\n",
    "|ipadx|\t内側の横の隙間を指定します。|\n",
    "|ipady|\t内側の縦の隙間を指定します。|\n",
    "|side\t|どの方向からつめていくかを指定します：Tk.TOP (default), 上からつめます。 Tk.LEFT, 左からつめます。Tk.RIGHT, 右からつめます。Tk.BOTTOM, 下からつめます。|"
   ]
  },
  {
   "cell_type": "markdown",
   "id": "a98034cc",
   "metadata": {
    "id": "a98034cc"
   },
   "source": [
    "# Style の書き方"
   ]
  },
  {
   "cell_type": "markdown",
   "id": "fe84e868",
   "metadata": {
    "id": "fe84e868"
   },
   "source": [
    "## fontset"
   ]
  },
  {
   "cell_type": "markdown",
   "id": "d98139d1",
   "metadata": {
    "id": "d98139d1"
   },
   "source": [
    "### 使用できるフォントファミリーの確認"
   ]
  },
  {
   "cell_type": "code",
   "execution_count": null,
   "id": "84e954c4",
   "metadata": {
    "id": "84e954c4",
    "outputId": "60ed7e13-ec9e-4dab-f7e3-e3744d4d3a26"
   },
   "outputs": [
    {
     "name": "stdout",
     "output_type": "stream",
     "text": [
      "['System', '@System', 'Terminal', '@Terminal', 'FixedSys', '@FixedSys', 'Modern', 'Roman', 'Script', 'Courier', 'MS Serif', 'MS Sans Serif', 'Small Fonts', '@Small Fonts', 'Marlett', 'Arial', 'Arabic Transparent', 'Arial Baltic', 'Arial CE', 'Arial CYR', 'Arial Greek', 'Arial TUR', 'Arial Black', 'Bahnschrift Light', 'Bahnschrift SemiLight', 'Bahnschrift', 'Bahnschrift SemiBold', 'Bahnschrift Light SemiCondensed', 'Bahnschrift SemiLight SemiConde', 'Bahnschrift SemiCondensed', 'Bahnschrift SemiBold SemiConden', 'Bahnschrift Light Condensed', 'Bahnschrift SemiLight Condensed', 'Bahnschrift Condensed', 'Bahnschrift SemiBold Condensed', 'Calibri', 'Calibri Light', 'Cambria', 'Cambria Math', 'Candara', 'Candara Light', 'Comic Sans MS', 'Consolas', 'Constantia', 'Corbel', 'Corbel Light', 'Courier New', 'Courier New Baltic', 'Courier New CE', 'Courier New CYR', 'Courier New Greek', 'Courier New TUR', 'Ebrima', 'Franklin Gothic Medium', 'Gabriola', 'Gadugi', 'Georgia', 'Impact', 'Ink Free', 'Javanese Text', 'Leelawadee UI', 'Leelawadee UI Semilight', 'Lucida Console', 'Lucida Sans Unicode', 'Malgun Gothic', '@Malgun Gothic', 'Malgun Gothic Semilight', '@Malgun Gothic Semilight', 'Microsoft Himalaya', 'Microsoft JhengHei', '@Microsoft JhengHei', 'Microsoft JhengHei UI', '@Microsoft JhengHei UI', 'Microsoft JhengHei Light', '@Microsoft JhengHei Light', 'Microsoft JhengHei UI Light', '@Microsoft JhengHei UI Light', 'Microsoft New Tai Lue', 'Microsoft PhagsPa', 'Microsoft Sans Serif', 'Microsoft Tai Le', 'Microsoft YaHei', '@Microsoft YaHei', 'Microsoft YaHei UI', '@Microsoft YaHei UI', 'Microsoft YaHei Light', '@Microsoft YaHei Light', 'Microsoft YaHei UI Light', '@Microsoft YaHei UI Light', 'Microsoft Yi Baiti', 'MingLiU-ExtB', '@MingLiU-ExtB', 'PMingLiU-ExtB', '@PMingLiU-ExtB', 'MingLiU_HKSCS-ExtB', '@MingLiU_HKSCS-ExtB', 'Mongolian Baiti', 'ＭＳ ゴシック', '@ＭＳ ゴシック', 'MS UI Gothic', '@MS UI Gothic', 'ＭＳ Ｐゴシック', '@ＭＳ Ｐゴシック', 'MV Boli', 'Myanmar Text', 'Nirmala UI', 'Nirmala UI Semilight', 'Palatino Linotype', 'Segoe MDL2 Assets', 'Segoe Print', 'Segoe Script', 'Segoe UI', 'Segoe UI Black', 'Segoe UI Emoji', 'Segoe UI Historic', 'Segoe UI Light', 'Segoe UI Semibold', 'Segoe UI Semilight', 'Segoe UI Symbol', 'SimSun', '@SimSun', 'NSimSun', '@NSimSun', 'SimSun-ExtB', '@SimSun-ExtB', 'Sitka Small', 'Sitka Text', 'Sitka Subheading', 'Sitka Heading', 'Sitka Display', 'Sitka Banner', 'Sylfaen', 'Symbol', 'Tahoma', 'Times New Roman', 'Times New Roman Baltic', 'Times New Roman CE', 'Times New Roman CYR', 'Times New Roman Greek', 'Times New Roman TUR', 'Trebuchet MS', 'Verdana', 'Webdings', 'Wingdings', '游ゴシック', '@游ゴシック', 'Yu Gothic UI', '@Yu Gothic UI', 'Yu Gothic UI Semibold', '@Yu Gothic UI Semibold', '游ゴシック Light', '@游ゴシック Light', 'Yu Gothic UI Light', '@Yu Gothic UI Light', '游ゴシック Medium', '@游ゴシック Medium', 'Yu Gothic UI Semilight', '@Yu Gothic UI Semilight', 'BIZ UDゴシック', '@BIZ UDゴシック', 'BIZ UDPゴシック', '@BIZ UDPゴシック', 'BIZ UD明朝 Medium', '@BIZ UD明朝 Medium', 'BIZ UDP明朝 Medium', '@BIZ UDP明朝 Medium', 'メイリオ', '@メイリオ', 'Meiryo UI', '@Meiryo UI', 'ＭＳ 明朝', '@ＭＳ 明朝', 'ＭＳ Ｐ明朝', '@ＭＳ Ｐ明朝', 'UD デジタル 教科書体 N-B', '@UD デジタル 教科書体 N-B', 'UD デジタル 教科書体 NP-B', '@UD デジタル 教科書体 NP-B', 'UD デジタル 教科書体 NK-B', '@UD デジタル 教科書体 NK-B', 'UD デジタル 教科書体 N-R', '@UD デジタル 教科書体 N-R', 'UD デジタル 教科書体 NP-R', '@UD デジタル 教科書体 NP-R', 'UD デジタル 教科書体 NK-R', '@UD デジタル 教科書体 NK-R', '游明朝', '@游明朝', '游明朝 Demibold', '@游明朝 Demibold', '游明朝 Light', '@游明朝 Light', 'HoloLens MDL2 Assets', 'Book Antiqua', 'Arial Narrow', 'Bookman Old Style', 'Bookshelf Symbol 7', 'Century', 'Dubai', 'Dubai Light', 'Dubai Medium', 'Garamond', 'Century Gothic', 'HG正楷書体-PRO', '@HG正楷書体-PRO', 'HG丸ｺﾞｼｯｸM-PRO', '@HG丸ｺﾞｼｯｸM-PRO', 'Monotype Corsiva', 'MT Extra', 'OCRB', 'MS Outlook', 'MS Reference Sans Serif', 'MS Reference Specialty', 'Wingdings 2', 'Wingdings 3', 'HGｺﾞｼｯｸE', '@HGｺﾞｼｯｸE', 'HGPｺﾞｼｯｸE', '@HGPｺﾞｼｯｸE', 'HGSｺﾞｼｯｸE', '@HGSｺﾞｼｯｸE', 'HGｺﾞｼｯｸM', '@HGｺﾞｼｯｸM', 'HGPｺﾞｼｯｸM', '@HGPｺﾞｼｯｸM', 'HGSｺﾞｼｯｸM', '@HGSｺﾞｼｯｸM', 'HG行書体', '@HG行書体', 'HGP行書体', '@HGP行書体', 'HGS行書体', '@HGS行書体', 'HG教科書体', '@HG教科書体', 'HGP教科書体', '@HGP教科書体', 'HGS教科書体', '@HGS教科書体', 'HG明朝B', '@HG明朝B', 'HGP明朝B', '@HGP明朝B', 'HGS明朝B', '@HGS明朝B', 'HG明朝E', '@HG明朝E', 'HGP明朝E', '@HGP明朝E', 'HGS明朝E', '@HGS明朝E', 'HG創英角ﾎﾟｯﾌﾟ体', '@HG創英角ﾎﾟｯﾌﾟ体', 'HGP創英角ﾎﾟｯﾌﾟ体', '@HGP創英角ﾎﾟｯﾌﾟ体', 'HGS創英角ﾎﾟｯﾌﾟ体', '@HGS創英角ﾎﾟｯﾌﾟ体', 'HG創英ﾌﾟﾚｾﾞﾝｽEB', '@HG創英ﾌﾟﾚｾﾞﾝｽEB', 'HGP創英ﾌﾟﾚｾﾞﾝｽEB', '@HGP創英ﾌﾟﾚｾﾞﾝｽEB', 'HGS創英ﾌﾟﾚｾﾞﾝｽEB', '@HGS創英ﾌﾟﾚｾﾞﾝｽEB', 'HG創英角ｺﾞｼｯｸUB', '@HG創英角ｺﾞｼｯｸUB', 'HGP創英角ｺﾞｼｯｸUB', '@HGP創英角ｺﾞｼｯｸUB', 'HGS創英角ｺﾞｼｯｸUB', '@HGS創英角ｺﾞｼｯｸUB', 'Noto Sans', 'Bowlby One SC', 'Cabin Sketch', 'Cookie', 'Doppio One', 'Courgette', 'Orbitron', 'Euphorigenic', 'Great Vibes', 'Teko SemiBold', 'Kalam Light', 'Kalam', 'Lemon', 'Limelight', 'Megrim', 'Montserrat Subrayada', 'Permanent Marker', 'Russo One', 'Sigmar One', 'Yellowtail', 'Bungee Inline', 'Cinzel Black', 'Marcellus SC', 'Quicksand Light', 'Quicksand Medium', 'Quicksand', 'Ubuntu Mono', 'Fugaz One', 'Shrikhand', 'Playball', 'Inter', 'Open Sans', 'Open Sans Semibold', 'Georgia Pro Black', 'Georgia Pro', 'Georgia Pro Cond Black', 'Georgia Pro Cond', 'Georgia Pro Cond Light', 'Georgia Pro Cond Semibold', 'Georgia Pro Light', 'Georgia Pro Semibold', 'Ink Draft']\n"
     ]
    }
   ],
   "source": [
    "import tkinter as tk\n",
    "import tkinter.font as font\n",
    "\n",
    "root = tk.Tk()\n",
    "print(list(font.families()))"
   ]
  },
  {
   "cell_type": "markdown",
   "id": "d4fa75ae",
   "metadata": {
    "id": "d4fa75ae"
   },
   "source": [
    "## フォントの指定方法"
   ]
  },
  {
   "cell_type": "code",
   "execution_count": null,
   "id": "1f8c3ac0",
   "metadata": {
    "id": "1f8c3ac0"
   },
   "outputs": [],
   "source": [
    "root = Tk()\n",
    "\n",
    "Name_Font = tkinter.font.Font(family = \"System\",size = 16,weight = tkinter.font.BOLD,slant=\"italic\")\n",
    "L = Label(root,text = \"text\",font = Name_Font).grid(row=0,column=0, sticky=E)\n",
    "\n",
    "root.title(\"rootwin\")\n",
    "\n",
    "root.mainloop()\n"
   ]
  },
  {
   "cell_type": "markdown",
   "id": "54d5235a",
   "metadata": {
    "id": "54d5235a"
   },
   "source": [
    "## 色の定義"
   ]
  },
  {
   "cell_type": "markdown",
   "id": "e02c9ad9",
   "metadata": {
    "id": "e02c9ad9"
   },
   "source": [
    "カラーコードで色を設定でき、4ビット8ビット12ビットに対応しています。  \n",
    "#rgb  \n",
    "#rrggbb  \n",
    "#rrrgggbbb  \n",
    "\n",
    "いくつかの色は、名前でも設定できます。  \n",
    "  \n",
    "“black”,”white”,”green”,”blue”,”yellow”,”cyan”,”magenta”,”lightgreen”,etc.  "
   ]
  },
  {
   "cell_type": "markdown",
   "id": "bc5eaa64",
   "metadata": {
    "id": "bc5eaa64"
   },
   "source": [
    "## tkのStyle 設定"
   ]
  },
  {
   "cell_type": "markdown",
   "id": "11baeafc",
   "metadata": {
    "id": "11baeafc"
   },
   "source": [
    "tk(tool kit)のwidgetのスタイルの変更法  \n",
    "option として設定できる。(htmlと同じ手法)"
   ]
  },
  {
   "cell_type": "markdown",
   "id": "9ec1389a",
   "metadata": {
    "id": "9ec1389a"
   },
   "source": [
    "tkのstyle option一覧（一部のみ、すべてのwidgetが対応しているもの、そのwidget固有の物などがあるため、詳しくはreferenceを参照してください）\n",
    "\n",
    "|opttion |説明|\n",
    "|-|-|\n",
    "|bg or background      |Normal background color.|\n",
    "|fg or foreground      |Normal foreground (text) color.|\n",
    "|font                  |Text font to be used for the button's label.|\n",
    "|highlightbackground   |Color of the focus highlight when the widget does not have focus.|\n",
    "|highlightcolor        |The color of the focus highlight when the widget has focus.|\n",
    "|highlightthickness    |Thickness of the focus highlight.|"
   ]
  },
  {
   "cell_type": "markdown",
   "id": "3703ca3d",
   "metadata": {
    "id": "3703ca3d"
   },
   "source": [
    "例　黒地に白色の文字のテキスト"
   ]
  },
  {
   "cell_type": "markdown",
   "id": "56da7db1",
   "metadata": {
    "id": "56da7db1"
   },
   "source": [
    "*2"
   ]
  },
  {
   "cell_type": "code",
   "execution_count": null,
   "id": "46eb4240",
   "metadata": {
    "id": "46eb4240"
   },
   "outputs": [],
   "source": [
    "        self.sample.Label1 = Label(self.sample,text=\"white\",bg=\"black\",fg=\"white\")\n",
    "        self.sample.Label1.grid(row=0,column=0)"
   ]
  },
  {
   "cell_type": "code",
   "execution_count": null,
   "id": "2e316c3d",
   "metadata": {
    "id": "2e316c3d"
   },
   "outputs": [],
   "source": [
    "        self.sample.Label1 = Label(self.sample,text=\"white\",bg=\"#000\",fg=\"#fff\")\n",
    "        self.sample.Label1.grid(row=0,column=0)"
   ]
  },
  {
   "cell_type": "markdown",
   "id": "29db42a4",
   "metadata": {
    "id": "29db42a4"
   },
   "source": [
    "## ttkのStyle設定"
   ]
  },
  {
   "cell_type": "markdown",
   "id": "c07479ce",
   "metadata": {
    "id": "c07479ce"
   },
   "source": [
    "ttk(themed tool kit)のwidgetのスタイルの変更法、  \n",
    "名前の”theme”とあるように、色やフォントに名前を付けて呼び出すことでスタイルを変更する。（CSSと同じ手法）"
   ]
  },
  {
   "cell_type": "markdown",
   "id": "873bacee",
   "metadata": {
    "id": "873bacee"
   },
   "source": [
    "styleのoption一覧(一部)"
   ]
  },
  {
   "cell_type": "markdown",
   "id": "792a92db",
   "metadata": {
    "id": "792a92db"
   },
   "source": [
    "基本構文  \n",
    "S = ttk.Style()  \n",
    "S.configure(\"sefname.TButton\",option = val,...)\n",
    "\n",
    "   w = widget(style = \"sefname.TButton\")"
   ]
  },
  {
   "cell_type": "markdown",
   "id": "bbd05ffd",
   "metadata": {
    "id": "bbd05ffd"
   },
   "source": [
    "変数\"S\"は自由に決める。windowごとにテーマを変えるなら、それぞれのclassのインスタンスとして設定すると扱いやすい。  \n",
    "\n",
    "S.configre(A.B,option = val)  \n",
    "\n",
    "A.B　：呼び出すときの名前  \n",
    "Aは自由に決めることができる。  \n",
    "Bは旧名、以下の表(『Tkinter 8.5 reference: aGUI for Python』(John W.Shipman)より引用)の対応するものにするとよい。  \n",
    "\n",
    "(実際対応してなくても問題なかったりする。(FrameのStyleにBtn.TButtonを呼び出しても使える。公式リファレンスでもあまり触れられず、あやふやな定義だったので、深く考えなくてもいいと思います。))"
   ]
  },
  {
   "cell_type": "markdown",
   "id": "2443b9c2",
   "metadata": {
    "id": "2443b9c2"
   },
   "source": [
    "\n",
    "| Widget class | Style name |\n",
    "|-|-|\n",
    "| Button | TButton |\n",
    "| Checkbutton | TCheckbutton |\n",
    "| Combobox | TCombobox |\n",
    "| Entry | TEntry |\n",
    "| Frame | TFrame |\n",
    "| Label | TLabel |\n",
    "| LabelFrame | TLabelFrame |\n",
    "| Menubutton | TMenubutton |\n",
    "| Notebook | TNotebook |\n",
    "| PanedWindow | TPanedwindow (not TPanedWindow!) |\n",
    "| Progressbar| Horizontal.TProgressbar or Vertical.TProgressbar, depending on the orient option. |\n",
    "| Radiobutton | TRadiobutton |\n",
    "| Scale | Horizontal.TScale or Vertical.TScale, depending on the orient option. |\n",
    "| Scrollbar | Horizontal.TScrollbar or Vertical.TScrollbar, dependingon the orient option. |\n",
    "| Separator| TSeparator |\n",
    "| Sizegrip | TSizegrip |\n",
    "| Treeview | Treeview (not TTreview!) |"
   ]
  },
  {
   "cell_type": "markdown",
   "id": "594a72f6",
   "metadata": {
    "id": "594a72f6"
   },
   "source": [
    "例　黒地に白色の文字のテキスト"
   ]
  },
  {
   "cell_type": "markdown",
   "id": "cfaf0455",
   "metadata": {
    "id": "cfaf0455"
   },
   "source": [
    "*1"
   ]
  },
  {
   "cell_type": "code",
   "execution_count": null,
   "id": "23af2176",
   "metadata": {
    "id": "23af2176"
   },
   "outputs": [],
   "source": [
    "Style = ttk.Style()\n",
    "Style.configure(\"ttk.TLabel\",background =\"black\",foreground = \"white\" )"
   ]
  },
  {
   "cell_type": "markdown",
   "id": "35c40877",
   "metadata": {
    "id": "35c40877"
   },
   "source": [
    "*2"
   ]
  },
  {
   "cell_type": "code",
   "execution_count": null,
   "id": "e95fb068",
   "metadata": {
    "id": "e95fb068"
   },
   "outputs": [],
   "source": [
    "        self.sample.Label1 = ttk.Label(self.sample,text=\"black?\",style=\"ttk.TLabel\")\n",
    "        self.sample.Label1.grid(row=0,column=0)"
   ]
  },
  {
   "cell_type": "markdown",
   "id": "56b1edd9",
   "metadata": {
    "id": "56b1edd9"
   },
   "source": [
    "# 備考"
   ]
  },
  {
   "cell_type": "markdown",
   "id": "fa965774",
   "metadata": {
    "id": "fa965774"
   },
   "source": [
    "jpyterNoteBook の便利な拡張機能のダウンロード （Anaconda環境の時、ほかの環境は検索してみてください。）  \n",
    "索引追加などが出来る。  \n",
    "wasjupyterアップデート https://mebee.info/2020/11/01/post-21852/#outline__3  \n",
    "nbextensionsのダウンロード　https://qiita.com/shilabo/items/a36c2919bdca2aa97623  \n",
    "使い方　https://qiita.com/simonritchie/items/d7dccb798f0b9c8b1ec5  "
   ]
  },
  {
   "cell_type": "markdown",
   "id": "0415b0b5",
   "metadata": {
    "id": "0415b0b5"
   },
   "source": [
    "# 参考 引用元"
   ]
  },
  {
   "cell_type": "markdown",
   "id": "be031e64",
   "metadata": {
    "id": "be031e64"
   },
   "source": [
    "『Tkinter  8.5 reference: a GUI for python』(john W.Shipman 2013/12/31)\n",
    "<a id='reference'></a>  \n",
    "https://anzeljg.github.io/rin2/book2/2405/docs/tkinter/index.html\n",
    "\n",
    "上記referenceの初め数項を簡単に意訳追記したもの　tkinter_reference日本語意訳.docx\n",
    "\n",
    "[1]「紫藤のページ」  \n",
    "<a id ='1'></a>\n",
    "https://www.shido.info/py/tkinter2.html"
   ]
  },
  {
   "cell_type": "markdown",
   "id": "ebe80deb",
   "metadata": {
    "id": "ebe80deb"
   },
   "source": [
    "# python コードで書き出しする時"
   ]
  },
  {
   "cell_type": "markdown",
   "id": "Qs_SgTRchi2i",
   "metadata": {
    "id": "Qs_SgTRchi2i"
   },
   "source": [
    "utf-8で読まれるように、\"# -*- coding:utf-8 -*-\" と一文書き足しておくことをおすすめします。"
   ]
  },
  {
   "cell_type": "code",
   "execution_count": null,
   "id": "f934140a",
   "metadata": {
    "id": "f934140a"
   },
   "outputs": [],
   "source": [
    "# -*- coding:utf-8 -*-\n",
    "\n",
    "#main_code を貼り付ける。（呼び出し部_app以下は書き換える。）\n",
    "\n",
    "if __name__ = \"__main__\":\n",
    "    _app = _MainFrame()\n",
    "    _app.master.title(_app.name)\n",
    "    _app.mainloop()"
   ]
  },
  {
   "cell_type": "markdown",
   "id": "6FysRK9ol1cF",
   "metadata": {
    "id": "6FysRK9ol1cF"
   },
   "source": [
    "## メモ"
   ]
  },
  {
   "cell_type": "markdown",
   "id": "upwAW6j3l7Wj",
   "metadata": {
    "id": "upwAW6j3l7Wj"
   },
   "source": [
    "pythonコードをターミナルなどで呼び出すとき、デフォルトでは、標準の何もパッケージがないpythonが呼び出される。使いたい環境を指定するときには、コードのはじめに#!/user/bin/env python ~と書くがこれを\"シェバン\"や\"シバン\"(正確には\"shebang\")と言うらしい。"
   ]
  },
  {
   "cell_type": "markdown",
   "id": "1Pevv6tCmsDk",
   "metadata": {
    "id": "1Pevv6tCmsDk"
   },
   "source": [
    "使うときは、#-*- coding:utf-8 -*-　の直下に以下のように追記する。(windowsなどlinux以外のosを使うときは/userから始まるものにするといいらしい)"
   ]
  },
  {
   "cell_type": "code",
   "execution_count": 3,
   "id": "ku8Wk3PPl00V",
   "metadata": {
    "executionInfo": {
     "elapsed": 295,
     "status": "ok",
     "timestamp": 1641543369651,
     "user": {
      "displayName": "Hiroaki Kaji",
      "photoUrl": "https://lh3.googleusercontent.com/a/default-user=s64",
      "userId": "00280222502784637082"
     },
     "user_tz": -540
    },
    "id": "ku8Wk3PPl00V"
   },
   "outputs": [],
   "source": [
    "#!/user/Guis/bin/env python3 # 使いたい環境のディレクトリ指定仮想環境など\n",
    "#!python3.7 # 使用したいpython のバージョン"
   ]
  },
  {
   "cell_type": "markdown",
   "id": "0a817624",
   "metadata": {
    "id": "0a817624"
   },
   "source": [
    "# キャプチャ"
   ]
  },
  {
   "cell_type": "code",
   "execution_count": null,
   "id": "dee71eba",
   "metadata": {
    "id": "dee71eba"
   },
   "outputs": [],
   "source": [
    "import tkinter\n",
    "import cv2\n",
    "import PIL.Image, PIL.ImageTk\n",
    "import time\n",
    "\n",
    "class App:\n",
    "    def __init__(self, window, window_title, video_source=1):\n",
    "        self.window = window\n",
    "        self.window.title(window_title)\n",
    "        self.video_source = video_source\n",
    "\n",
    "        # open video source (by default this will try to open the computer webcam)\n",
    "        self.vid = MyVideoCapture(self.video_source)\n",
    "\n",
    "        # Create a canvas that can fit the above video source size\n",
    "        self.canvas = tkinter.Canvas(window, width = self.vid.width, height = self.vid.height)\n",
    "        self.canvas.pack()\n",
    "\n",
    "        # Button that lets the user take a snapshot\n",
    "        self.btn_snapshot=tkinter.Button(window, text=\"Snapshot\", width=50, command=self.snapshot)\n",
    "        self.btn_snapshot.pack(anchor=tkinter.CENTER, expand=True)\n",
    "\n",
    "        # After it is called once, the update method will be automatically called every delay milliseconds\n",
    "        self.delay = 15\n",
    "        self.update()\n",
    "\n",
    "        self.window.mainloop()\n",
    "\n",
    "    def snapshot(self):\n",
    "        # Get a frame from the video source\n",
    "        ret, frame = self.vid.get_frame()\n",
    "\n",
    "        if ret:\n",
    "            cv2.imwrite(\"frame-\" + time.strftime(\"%d-%m-%Y-%H-%M-%S\") + \".jpg\", cv2.cvtColor(frame, cv2.COLOR_RGB2BGR))\n",
    "\n",
    "    def update(self):\n",
    "        # Get a frame from the video source\n",
    "        ret, frame = self.vid.get_frame()\n",
    "\n",
    "        if ret:\n",
    "            self.photo = PIL.ImageTk.PhotoImage(image = PIL.Image.fromarray(frame))\n",
    "            self.canvas.create_image(0, 0, image = self.photo, anchor = tkinter.NW)\n",
    "\n",
    "        self.window.after(self.delay, self.update)\n",
    "\n",
    "\n",
    "class MyVideoCapture:\n",
    "    def __init__(self, video_source=0):\n",
    "        # Open the video source\n",
    "        self.vid = cv2.VideoCapture(video_source)\n",
    "        if not self.vid.isOpened():\n",
    "            raise ValueError(\"Unable to open video source\", video_source)\n",
    "\n",
    "        # Get video source width and height\n",
    "        self.width = self.vid.get(cv2.CAP_PROP_FRAME_WIDTH)\n",
    "        self.height = self.vid.get(cv2.CAP_PROP_FRAME_HEIGHT)\n",
    "\n",
    "    def get_frame(self):\n",
    "        if self.vid.isOpened():\n",
    "            ret, frame = self.vid.read()\n",
    "            if ret:\n",
    "                # Return a boolean success flag and the current frame converted to BGR\n",
    "                return (ret, cv2.cvtColor(frame, cv2.COLOR_BGR2RGB))\n",
    "            else:\n",
    "                return (ret, None)\n",
    "        else:\n",
    "            return (ret, None)\n",
    "\n",
    "    # Release the video source when the object is destroyed\n",
    "    def __del__(self):\n",
    "        if self.vid.isOpened():\n",
    "            self.vid.release()\n",
    "\n",
    "# Create a window and pass it to the Application object\n",
    "App(tkinter.Tk(), \"Tkinter and OpenCV\")"
   ]
  },
  {
   "cell_type": "code",
   "execution_count": null,
   "id": "7804528f",
   "metadata": {
    "id": "7804528f"
   },
   "outputs": [],
   "source": []
  }
 ],
 "metadata": {
  "colab": {
   "collapsed_sections": [
    "6a033806",
    "7c1d885b",
    "4e506025",
    "91448bda",
    "c9b0733b",
    "43139a72",
    "028a6a21",
    "936739cd",
    "fcdc862e",
    "3c0cf6c7",
    "8b6a319d",
    "ad580a78",
    "333b9f84",
    "03cb4818",
    "3ad693c6",
    "23404f45",
    "0cf173cb",
    "2633f983",
    "b1b02f5c",
    "f467dea9",
    "882a9bb9",
    "3d5076f6",
    "3eb9a440",
    "42f279c2",
    "19d85a04",
    "1b1a7573",
    "b211745e",
    "5d453864",
    "a4d3ad30",
    "19c5d670",
    "fe84e868",
    "d98139d1",
    "d4fa75ae",
    "54d5235a",
    "bc5eaa64",
    "29db42a4",
    "Qs_SgTRchi2i"
   ],
   "name": "GUI_sample.ipynb",
   "provenance": [],
   "toc_visible": true
  },
  "kernelspec": {
   "display_name": "Python 3",
   "language": "python",
   "name": "python3"
  },
  "language_info": {
   "codemirror_mode": {
    "name": "ipython",
    "version": 3
   },
   "file_extension": ".py",
   "mimetype": "text/x-python",
   "name": "python",
   "nbconvert_exporter": "python",
   "pygments_lexer": "ipython3",
   "version": "3.8.8"
  },
  "toc": {
   "base_numbering": 1,
   "nav_menu": {},
   "number_sections": true,
   "sideBar": true,
   "skip_h1_title": false,
   "title_cell": "Table of Contents",
   "title_sidebar": "Contents",
   "toc_cell": false,
   "toc_position": {
    "height": "766.991px",
    "left": "6px",
    "top": "111.125px",
    "width": "190.984px"
   },
   "toc_section_display": true,
   "toc_window_display": true
  }
 },
 "nbformat": 4,
 "nbformat_minor": 5
}
