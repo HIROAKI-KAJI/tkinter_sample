{
 "cells": [
  {
   "cell_type": "markdown",
   "id": "bb63bd21",
   "metadata": {},
   "source": [
    "2022.01.17  Ver1.1"
   ]
  },
  {
   "cell_type": "markdown",
   "id": "ed796f59",
   "metadata": {},
   "source": [
    "# main_code"
   ]
  },
  {
   "cell_type": "markdown",
   "id": "99f1dd1b",
   "metadata": {},
   "source": [
    "注意事項  \n",
    "- google_colabでは、新しいウィンドウを表示することが出来ないため、jpyter notebook等で実行してください。\n",
    "- \"_\"を前につけてある関数等を書き換えると動作しなくなることがあるので、refarence等を読んでから書き換えるなどの操作をしてください。  \n",
    "- Quit のボタンがありますがjupyter notebook だとwindow閉じることができずErrerが出ます、右上の✕で閉じてください。 Ubntu等からpythonで実行するときは使えます。\n",
    "- 詳しくは公式[reference](#reference)を参照してください。"
   ]
  },
  {
   "cell_type": "code",
   "execution_count": 1,
   "id": "287168b1",
   "metadata": {},
   "outputs": [],
   "source": [
    "from tkinter import *\n",
    "from tkinter import ttk\n",
    "import tkinter.font\n",
    "import cv2\n",
    "\n",
    "\n",
    "#Style_Setting=======================================\n",
    "Style = ttk.Style()\n",
    "Style.configure(\"M1.TFrame\",background = \"#6ac9f4\")\n",
    "Style.configure(\"User.TFrame\",background = \"#c7f9fd\")\n",
    "Style.configure(\"UseFrame.TLabelframe\",background = \"#fff\")#親要素\n",
    "Style.configure(\"UseFrame.TLabelframe.Label\",background=\"#fff\",foreground=\"#000\")#子要素\n",
    "Style.configure(\"FS4.TFrame\",background = \"#ebebeb\")\n",
    "\n",
    "Style.configure(\"ttkS.TLabel\",background =\"black\",foreground = \"white\" )\n",
    "#========================================================\n",
    "\n",
    "class _MainFrame(Frame):\n",
    "    def __init__(self,master=None):\n",
    "        Frame.__init__(self,master)\n",
    "        \n",
    "        self.master.minsize(width = 320,height = 180)\n",
    "        self.grid(sticky=N+S+E+W)\n",
    "        self.name = StringVar()\n",
    "        \n",
    "        self.name = \"Video_capture\"#windowの名前\n",
    "        #instances=====================================\n",
    "        #==============================================\n",
    "        self._MainSet()\n",
    "        self._SetWidgets()\n",
    "        \n",
    "    def _SetWidgets(self):\n",
    "        #define_widgets=========================================\n",
    "        self._MakeFrame(\"main\")\n",
    "        \n",
    "        #self.main.REC = Button(self.main,text = lambda self.REC_status : )\n",
    "        #=======================================================\n",
    "        \n",
    "    def _MainSet(self):\n",
    "        Top=self.winfo_toplevel()\n",
    "        Top.configure(bg=\"\")\n",
    "        Top.grid_columnconfigure(0,weight=1)\n",
    "        Top.grid_rowconfigure(2,weight=1)\n",
    "        self.H1 = ttk.Frame(Top,padding=4)\n",
    "        self.H1.grid(row=0,sticky=N+E+W+S)\n",
    "        \n",
    "        self.H1.grid_columnconfigure(0, weight=0)\n",
    "        self.H1.grid_columnconfigure(1, weight=1)\n",
    "        self.H1.grid_columnconfigure(2, weight=0)\n",
    "        \n",
    "        Name_Font = tkinter.font.Font(family = \"Menlo\",size = 16,weight = tkinter.font.BOLD)\n",
    "        self.H1.Name = Label(self.H1,text = self.name,font = Name_Font).grid(row=0,column=0, sticky=E)\n",
    "        self.H1.Text = Label(self.H1,text = \"label\",font = tkinter.font.Font(size = 10)).grid(row=0,column=1, sticky=W)\n",
    "        \n",
    "        self.M1 = ttk.Frame(Top,style = \"M1.TFrame\")\n",
    "        self.M1.grid(row = 1,sticky=N+E+W+S)\n",
    "        self.M1.count = 0\n",
    "        \n",
    "        self.UserFrame = ttk.Frame(Top,padding = [5,0],style =\"User.TFrame\" )\n",
    "        self.UserFrame.grid(row = 2,column = 0,sticky = N+E+W+S)\n",
    "        self.UserFrame.grid_rowconfigure(0, weight=1)\n",
    "        self.UserFrame.grid_columnconfigure(0, weight=1)\n",
    "\n",
    "    def _MakeFrame(self,name):\n",
    "        self._OffPalse()\n",
    "        code0 = \"self.\"+ name + \"= ttk.LabelFrame(self.UserFrame,style=\\\"UseFrame.TLabelframe\\\",text=\\\"\"+name+\"\\\",padding=[0,5],relief=\\\"flat\\\")\"\n",
    "        code1 = \"self.\"+ name + \".grid(row=0,column=0,sticky = N+E+W+S)\"\n",
    "        exec(code0)\n",
    "        exec(code1)\n",
    "        self._M1button(name)\n",
    "    def _M1button(self,Frame):\n",
    "        code0 = \"self.M1.\"+Frame+\"=Button(self.M1,text=\"+\"\\\"\"+Frame+\"\\\",command = self._combineFunc(self._OffPalse,self.\"+Frame+\".grid))\"\n",
    "        code1 = \"self.M1.\"+Frame+\".grid(row = 0,column=\"+str(self.M1.count)+\")\"\n",
    "        code2 = \"self.M1.\"+Frame+\".column=\"+str(self.M1.count)\n",
    "        code3 = \"self.M1.\"+Frame+\".state=\\\"Appear\\\"\"\n",
    "        code4 = \"self.M1.\"+Frame+\".freame=\\\"self.UserFrame.\"+Frame+\"\\\"\"\n",
    "        exec(code0)\n",
    "        exec(code1)\n",
    "        exec(code2)\n",
    "        exec(code3)\n",
    "        exec(code4)\n",
    "        self.M1.count += 1\n",
    "    def _OffPalse(self):\n",
    "        widgetlist = self.UserFrame.grid_slaves()\n",
    "        for wid in widgetlist:\n",
    "            wid.grid_remove()\n",
    "    def _combineFunc(self, *funcs):\n",
    "       def combinedFunc(*args, **kwargs):\n",
    "            for f in funcs:\n",
    "                f(*args, **kwargs)\n",
    "       return combinedFunc\n",
    "    #User_commands1===================================\n",
    "    \n",
    "    #================================================\n",
    "\n",
    "\n",
    "#User_commands2===================================\n",
    "\n",
    "#================================================\n",
    "\n",
    "_app = _MainFrame()\n",
    "_app.master.title(_app.name)\n",
    "_app.mainloop()"
   ]
  },
  {
   "cell_type": "markdown",
   "id": "4a12bb13",
   "metadata": {},
   "source": [
    "# Frameを作成する関数　_MakeFrame"
   ]
  },
  {
   "cell_type": "markdown",
   "id": "4f463f68",
   "metadata": {},
   "source": [
    "基本構文  \n",
    "self._MakeFrame(\"name\")\n",
    "\n",
    "name につけたい名前を入れるとそのフレームが作成される。(名前は基本何でもよいが、漢字、ひらがななどの全角文字(対応しているが使えない文字があるかも)、また、トークンとかぶると誤動作する可能性があります。)  \n",
    "フレームの上に呼び出す用のボタンが作成される。"
   ]
  },
  {
   "cell_type": "markdown",
   "id": "95748267",
   "metadata": {},
   "source": [
    "define_widgetsのところに書く、ここで定義するフレームに対してwidget(button や textなど)を紐づけていく。"
   ]
  },
  {
   "cell_type": "code",
   "execution_count": null,
   "id": "26ca68d8",
   "metadata": {},
   "outputs": [],
   "source": [
    "        self._MakeFrame(\"sample\")"
   ]
  },
  {
   "cell_type": "code",
   "execution_count": null,
   "id": "ff3a234a",
   "metadata": {},
   "outputs": [],
   "source": [
    "# -*- coding:utf-8 -*-\n",
    "# python\n",
    "\n",
    "\n",
    "from tkinter import *\n",
    "from tkinter import ttk\n",
    "\n",
    "import tkinter\n",
    "from tkinter import filedialog\n",
    "import tkinter.font\n",
    "import cv2\n",
    "import PIL.Image, PIL.ImageTk\n",
    "from threading import Thread, enumerate\n",
    "from multiprocessing import Process, Manager\n",
    "import os\n",
    "import datetime\n",
    "import sys\n",
    "\n",
    "\n",
    "\n",
    "#Style_Setting=======================================\n",
    "Style = ttk.Style()\n",
    "Style.configure(\"M1.TFrame\",background = \"#6ac9f4\")\n",
    "Style.configure(\"User.TFrame\",background = \"#c7f9fd\")\n",
    "Style.configure(\"UseFrame.TLabelframe\",background = \"#fff\")#親要素\n",
    "Style.configure(\"UseFrame.TLabelframe.Label\",background=\"#fff\",foreground=\"#000\")#子要素\n",
    "Style.configure(\"FS4.TFrame\",background = \"#ebebeb\")\n",
    "\n",
    "Style.configure(\"mainLabel.TLabel\",background = \"#fff\")\n",
    "\n",
    "Style.configure(\"ttkS.TLabel\",background =\"#fff\",foreground = \"#000\" )\n",
    "#========================================================\n",
    "\n",
    "\n",
    "class _MainFrame(Frame):\n",
    "    def __init__(self,dic,master=None):\n",
    "        Frame.__init__(self,master)\n",
    "        \n",
    "        #self.master.minsize(width = 320,height = 180)\n",
    "        self.grid(sticky=N+S+E+W)\n",
    "        self.name = \"Video_capture\"\n",
    "        self.ver = \"ver 0.0\"\n",
    "        #instances=====================================\n",
    "        self.dic = dic\n",
    "        self.Outfilepath = StringVar()\n",
    "        self.Outfilenamebace = StringVar()\n",
    "        self.RecSpan = IntVar()\n",
    "        self.RecSpan.set(5)\n",
    "        self.Status = {\"Camera\" : False,#capture state\n",
    "                       \"REC_mode\":0,#REC mode (0:Free,1:game)\n",
    "                       \"FPS\" : 0}\n",
    "        \n",
    "        self.Video_State = False # makevideo state (0:not make,1:making)\n",
    "        self.Video_source = int(0) #Video source (0,1,..)\n",
    "        self.delay = 15 #ms/Frame of display\n",
    "        \n",
    "        self.StatusLabel = StringVar()\n",
    "        self.Update()\n",
    "        \n",
    "        \n",
    "        self._MainSet()\n",
    "        self._SetWidgets()\n",
    "        \n",
    "        \n",
    "    def dic_set(self):\n",
    "        self.dic[\"output_Path\"] = self.Outfilepath.get()\n",
    "        self.dic[\"output_NameBace\"] = self.Outfilenamebace.get()\n",
    "        self.dic[\"cam_Port\"] = self.Video_source\n",
    "        self.dic[\"config_Fps\"] = 30.0\n",
    "        self.dic[\"fps\"] = None\n",
    "        self.dic[\"cap_Mode\"] = 0\n",
    "        self.dic[\"cap_TimeSpan\"] = self.RecSpan.get()\n",
    "        self.dic[\"rec_type\"] = 1\n",
    "        \n",
    "        \n",
    "    def _SetWidgets(self):\n",
    "        #define_widgets=========================================\n",
    "        self._MakeFrame(\"main\")\n",
    "        \n",
    "        try:\n",
    "            self.video = MyVideoCapture(self.Video_source)\n",
    "            self.Status[\"Camera\"] = True\n",
    "        except:\n",
    "            self.Status[\"Camera\"] = False\n",
    "        \n",
    "        self.main.columnconfigure(0,minsize=100)\n",
    "        try:\n",
    "            self.main.C1 = tkinter.Canvas(self.main,width = self.video.width,height = self.video.height)\n",
    "            self.main.columnconfigure(1,minsize=self.video.width)\n",
    "        except:\n",
    "            self.main.C1 = tkinter.Canvas(self.main,width = 640,height =360)\n",
    "            self.main.columnconfigure(1,minsize=640)\n",
    "            \n",
    "        self.main.C1.grid(row = 0,column=1,rowspan = 3,sticky = N+E+S+W)\n",
    "        \n",
    "        self.main.L1 = ttk.Label(self.main,style = \"mainLabel.TLabel\",textvariable=self.StatusLabel)\n",
    "        self.main.L1.grid(row = 0,column=0,sticky = N)\n",
    "        \n",
    "        self.main.B1 = Button(self.main,text = \"Start\",command =self.start)\n",
    "        self.main.B1.grid(row = 1,column=0,sticky = N+E+W,padx=20,pady=5)\n",
    "        self.main.B2 = Button(self.main,text = \"Stop\",command =self._combineFunc(self.stop,self.update))\n",
    "        self.main.B2.grid(row = 1,column=0,sticky = N+E+W,padx=20,pady=5)\n",
    "        \n",
    "        \n",
    "        self.main.B2.grid_remove()\n",
    "\n",
    "        self.update()\n",
    "        \n",
    "        \n",
    "        self._MakeFrame(\"Settings\")\n",
    "        \n",
    "        self.Settings.F1 = ttk.LabelFrame(self.Settings,style = \"UseFrame.TLabelframe\",text = \"Video setting\")\n",
    "        self.Settings.F2 = ttk.LabelFrame(self.Settings,style = \"UseFrame.TLabelframe\",text = \"option\")\n",
    "        \n",
    "        self.Settings.F1.grid(row = 0,column = 0,sticky = N+E+W+S)\n",
    "        self.Settings.F2.grid(row = 0,column = 1,sticky = N+E+W+S)\n",
    "        \n",
    "        self.Settings.F1.L0 = Label(self.Settings.F1,text = \"Camera port\",bg = \"#FFF\").grid(row=0,column=0)\n",
    "        self.Settings.F1.CBB0 = ttk.Combobox(self.Settings.F1, value =[0,1])\n",
    "        self.Settings.F1.CBB0.grid(row = 0,column = 1)\n",
    "        self.Settings.F1.CBB0.set(0)\n",
    "        self.Settings.F1.L1 = ttk.Label(self.Settings.F1,text =\"OutputFilePath\",style = \"ttkS.TLabel\" ).grid(row=1,column=0)\n",
    "        self.Settings.F1.B1Out = ttk.Button(self.Settings.F1,text =\"GetPath\",command =self.GetFolderPath).grid(row=1,column=1,sticky=N+W+E+S)\n",
    "        self.Settings.F1.E2Out = ttk.Entry(self.Settings.F1,textvariable=self.Outfilepath).grid(row = 2,column = 0,columnspan = 2,sticky=N+W+E+S)\n",
    "        self.Settings.F1.L3 = ttk.Label(self.Settings.F1,text =\"OutputFileNameBace\").grid(row =3,column = 0)    \n",
    "        self.Settings.F1.E3Out = ttk.Entry(self.Settings.F1,textvariable=self.Outfilenamebace).grid(row = 3,column = 1,sticky=N+W+E+S)\n",
    "        self.Settings.F1.L4 = ttk.Label(self.Settings.F1,text =\"RecSpan\",style = \"ttkS.TLabel\" ).grid(row=4,column=0)\n",
    "        self.Settings.F1.E4RM = ttk.Entry(self.Settings.F1,textvariable=self.RecSpan).grid(row = 4,column = 1,sticky=N+W+E+S)\n",
    "        \n",
    "        self.Settings.F1.B10 = ttk.Button(self.Settings.F1,text =\"Apply Setting\",command =self.ApplySettings).grid(row = 10,column = 1,sticky=N+E+S,padx=10,pady = 4)\n",
    "        \n",
    "        self.Settings.F2.L1at = Label(self.Settings.F2,text = \"Auto Stop\",bg = \"#FFF\").grid(row=0,column=0)\n",
    "        self.Settings.F2.CBat = Checkbutton(self.Settings.F2,bg = \"#FFF\",activebackground = \"#FFF\",text =\"※unprepared\")\n",
    "        self.Settings.F2.CBat.grid(row=0,column=1, sticky=W)\n",
    "    \n",
    "    def Update_Label(self):\n",
    "        self.StatusLabel.set(\"Camera port:\"+str(self.Video_source)+\n",
    "                             \"\\nCamera:\"+(lambda Bool: \"ON\"if Bool else \"OFF\")(self.Status[\"Camera\"])+\n",
    "                             \"\\nMode:\"+(lambda x: \"Free Shot\"if x==0 else \"Game\")(self.Status[\"REC_mode\"]))\n",
    "\n",
    "\n",
    "    def ApplySettings(self):\n",
    "        if self.Video_source != int(self.Settings.F1.CBB0.get()):\n",
    "            try:\n",
    "                self.video = MyVideoCapture(self.Video_source)\n",
    "            except:\n",
    "                pass\n",
    "        self.Video_source = int(self.Settings.F1.CBB0.get())\n",
    "        self.Update_Label()\n",
    "        self.dic_set()\n",
    "        #=======================================================\n",
    "        \n",
    "    def _MainSet(self):\n",
    "        Top=self.winfo_toplevel()\n",
    "        \n",
    "        Top.configure(bg=\"\")\n",
    "        Top.grid_columnconfigure(0,weight=1)\n",
    "        Top.grid_rowconfigure(2,weight=1)\n",
    "        self.H1 = ttk.Frame(Top,padding=4)\n",
    "        self.H1.grid(row=0,sticky=N+E+W+S)\n",
    "        \n",
    "        self.H1.grid_columnconfigure(0, weight=0)\n",
    "        self.H1.grid_columnconfigure(1, weight=1)\n",
    "        self.H1.grid_columnconfigure(2, weight=0)\n",
    "        \n",
    "        Name_Font = tkinter.font.Font(family = \"Menlo\",size = 16,weight = tkinter.font.BOLD)\n",
    "        self.H1.Name = Label(self.H1,text = self.name,font = Name_Font).grid(row=0,column=0, sticky=E)\n",
    "        self.H1.Text = Label(self.H1,text = self.ver,font = tkinter.font.Font(size = 10)).grid(row=0,column=1, sticky=W)\n",
    "        self.H1.Quitbutton = Button(self.H1,text=\"Quit\",command = self.quit).grid(row=0,column=2, sticky=W)\n",
    "        \n",
    "        self.M1 = ttk.Frame(Top,style = \"M1.TFrame\")\n",
    "        self.M1.grid(row = 1,sticky=N+E+W+S)\n",
    "        self.M1.count = 0\n",
    "        \n",
    "        self.UserFrame = ttk.Frame(Top,padding = [5,0],style =\"User.TFrame\" )\n",
    "        self.UserFrame.grid(row = 2,column = 0,sticky = N+E+W+S)\n",
    "        self.UserFrame.grid_rowconfigure(0, weight=1)\n",
    "        self.UserFrame.grid_columnconfigure(0, weight=1)\n",
    "        \n",
    "\n",
    "\n",
    "    def _MakeFrame(self,name):\n",
    "        self._OffPalse()\n",
    "        code0 = \"self.\"+ name + \"= ttk.LabelFrame(self.UserFrame,style=\\\"UseFrame.TLabelframe\\\",text=\\\"\"+name+\"\\\",padding=[0,5],relief=\\\"flat\\\")\"\n",
    "        code1 = \"self.\"+ name + \".grid(row=0,column=0,sticky = N+E+W+S)\"\n",
    "        exec(code0)\n",
    "        exec(code1)\n",
    "        self._M1button(name)\n",
    "    def _M1button(self,Frame):\n",
    "        code0 = \"self.M1.\"+Frame+\"=Button(self.M1,text=\"+\"\\\"\"+Frame+\"\\\",command = self._combineFunc(self._OffPalse,self.\"+Frame+\".grid))\"\n",
    "        code1 = \"self.M1.\"+Frame+\".grid(row = 0,column=\"+str(self.M1.count)+\")\"\n",
    "        code2 = \"self.M1.\"+Frame+\".column=\"+str(self.M1.count)\n",
    "        code3 = \"self.M1.\"+Frame+\".state=\\\"Appear\\\"\"\n",
    "        code4 = \"self.M1.\"+Frame+\".freame=\\\"self.UserFrame.\"+Frame+\"\\\"\"\n",
    "        exec(code0)\n",
    "        exec(code1)\n",
    "        exec(code2)\n",
    "        exec(code3)\n",
    "        exec(code4)\n",
    "        self.M1.count += 1\n",
    "    def _OffPalse(self):\n",
    "        widgetlist = self.UserFrame.grid_slaves()\n",
    "        for wid in widgetlist:\n",
    "            wid.grid_remove()\n",
    "    def _combineFunc(self, *funcs):\n",
    "       def combinedFunc(*args, **kwargs):\n",
    "            for f in funcs:\n",
    "                f(*args, **kwargs)\n",
    "       return combinedFunc\n",
    "    #User_commands1===================================\n",
    "    def start(self):\n",
    "        self.Video_State = True\n",
    "        self.dic[\"rec_state\"] = self.Video_State\n",
    "        self.video.release()\n",
    "        self.main.B1.grid_remove()\n",
    "        self.main.B2.grid()\n",
    "        \n",
    "        \n",
    "        self.main.C1.grid_forget()\n",
    "        self.main.C1 = tkinter.Canvas(self.main,width = 640,height =360)\n",
    "        self.main.columnconfigure(1,minsize=640)\n",
    "        self.main.C1.grid(row = 0,column=1,rowspan = 3,sticky = N+E+S+W)\n",
    "        \n",
    "    def stop(self):\n",
    "        self.Video_State = False\n",
    "        self.dic[\"rec_state\"] = self.Video_State\n",
    "        self.main.B2.grid_remove()\n",
    "        self.main.B1.grid()\n",
    "        \n",
    "        print(\"mount\")\n",
    "        self.video = MyVideoCapture(self.Video_source)\n",
    "        self.main.C1.grid_forget()\n",
    "        self.main.C1 = tkinter.Canvas(self.main,width = self.video.width,height = self.video.height)\n",
    "        self.main.columnconfigure(1,minsize=self.video.width)\n",
    "        self.main.C1.grid(row = 0,column=1,rowspan = 3,sticky = N+E+S+W)\n",
    "\n",
    "\n",
    "    def update(self):\n",
    "        # Get a frame from the video source\n",
    "        try:\n",
    "            ret, frame = self.video.get_frame()\n",
    "\n",
    "            if ret:\n",
    "                self.photo = PIL.ImageTk.PhotoImage(image = PIL.Image.fromarray(frame))\n",
    "                self.main.C1.create_image(0, 0, image = self.photo, anchor = tkinter.NW)\n",
    "                self.Update_Label()\n",
    "\n",
    "            self.after(self.delay, self.update)\n",
    "        except:\n",
    "            pass\n",
    "    def GetFilePath(self):\n",
    "        typ = [('', '*')]\n",
    "        current_dir = 'C:\\\\pg'\n",
    "        fle = filedialog.askopenfilenames(filetypes = typ, initialdir = current_dir)\n",
    "        \n",
    "    def GetFolderPath(self):\n",
    "        current_dir = 'C:\\\\pg'\n",
    "        self.Outfilepath.set(filedialog.askdirectory(initialdir=current_dir))\n",
    "    #================================================\n",
    "\n",
    "\n",
    "\n",
    "#User_commands2===================================\n",
    "class MyVideoCapture:#capture to UI\n",
    "    def __init__(self, video_source):\n",
    "        # Open the video source\n",
    "        self.vid = cv2.VideoCapture(video_source)\n",
    "        if not self.vid.isOpened():\n",
    "            raise ValueError(\"Unable to open video source\", video_source)\n",
    "\n",
    "        # Get video source width and height\n",
    "        self.width = self.vid.get(cv2.CAP_PROP_FRAME_WIDTH)\n",
    "        self.height = self.vid.get(cv2.CAP_PROP_FRAME_HEIGHT)\n",
    "\n",
    "    def get_frame(self):\n",
    "        print(\"\\r\",self.vid.isOpened(),end=\"\")\n",
    "        if self.vid.isOpened():\n",
    "            ret, frame = self.vid.read()\n",
    "            if ret:\n",
    "                # Return a boolean success flag and the current frame converted to BGR\n",
    "                return (ret, cv2.cvtColor(frame, cv2.COLOR_BGR2RGB))\n",
    "            else:\n",
    "                return (ret, None)\n",
    "        else:\n",
    "            return (ret, None)\n",
    "    def release(self):\n",
    "        self.vid.release()\n",
    "    # Release the video source when the object is destroyed\n",
    "    def __del__(self):\n",
    "        try:\n",
    "            if self.vid.isOpened():\n",
    "                self.vid.release()\n",
    "        except:\n",
    "            pass\n",
    "\n",
    "class Video_maker():\n",
    "    def __init__(self,dic):\n",
    "        self.cap = cv2.VideoCapture(dic[\"cam_Port\"])\n",
    "        self.filepath = make_name(directry=dic[\"output_Path\"],bace=dic[\"output_NameBace\"])\n",
    "                \n",
    "\n",
    "        self.w = int(self.cap.get(cv2.CAP_PROP_FRAME_WIDTH))\n",
    "        self.h = int(self.cap.get(cv2.CAP_PROP_FRAME_HEIGHT))\n",
    "        \n",
    "        if dic[\"config_Fps\"] == None:\n",
    "            self.fps = int(self.cap.get(cv2.CAP_PROP_FPS)) # フレームレート\n",
    "        else:\n",
    "            self.fps = int(dic[\"config_Fps\"])\n",
    "            \n",
    "        self.codec = cv2.VideoWriter_fourcc(*'mp4v')\n",
    "        self.video = cv2.VideoWriter(self.filepath, self.codec, self.fps, (self.w, self.h))\n",
    "        \n",
    "        self.rec_type = dic[\"rec_type\"]\n",
    "        if self.rec_type == 1:\n",
    "            self.health = int(self.fps)*dic[\"cap_TimeSpan\"]*60\n",
    "        else:\n",
    "            self.health = None\n",
    "        self.life = True\n",
    "        self.video_life = True\n",
    "        self.dic = dic\n",
    "        \n",
    "    def write(self):\n",
    "        self.live()\n",
    "        if self.life:\n",
    "            ret, img = self.cap.read()\n",
    "            if ret:\n",
    "                self.video.write(img)\n",
    "            else:\n",
    "                print('Error: capture is failed', file=sys.stderr)\n",
    "            get_stutas()\n",
    "        else:\n",
    "            self.end()\n",
    "    def get_stutas():\n",
    "        try:\n",
    "            self.dic[\"fps\"] = self.cap.get(cv2.CAP_PROP_FPS)\n",
    "        except:\n",
    "            self.dic[\"fps\"] = \"Not Captured\"\n",
    "    def live(self):\n",
    "        if self.rec_type == 1:\n",
    "            self.health -= 1\n",
    "            if self.health <= 0:\n",
    "                self.life = False\n",
    "    def kill(self):\n",
    "        self.life = False\n",
    "        self.end()\n",
    "    def end(self):\n",
    "        if self.video_life:\n",
    "            self.video.release()\n",
    "            self.cap.release()\n",
    "            self.video_life = False\n",
    "\n",
    "def make_name(directry=\"./\",bace=\"\"):\n",
    "    dt = datetime.datetime.today()\n",
    "\n",
    "    if bace == \"\":\n",
    "        name = f'{dt.hour:_>2}_{dt.minute:_>2}_{dt.second:_>2}.mp4'\n",
    "    else:\n",
    "        name = f'{bace}_{dt.hour:_>2}_{dt.minute:_>2}_{dt.second:_>2}.mp4'\n",
    "    \n",
    "    if directry == \"./\":\n",
    "        name = f'{directry}{name}'\n",
    "    else:\n",
    "        name = f'{directry}/{name}'\n",
    "    print(name)\n",
    "    return name\n",
    "\n",
    "\n",
    "\n",
    "\n",
    "def cv_main(dic):\n",
    "    while(True):\n",
    "        print(\"\\r\",dic,end=\"\")\n",
    "        if dic[\"rec_state\"]:\n",
    "            REC = Video_maker(dic)\n",
    "            while True:\n",
    "                if dic[\"rec_state\"]:\n",
    "                    print(\"\\rrec now\",end=\"\")\n",
    "                    REC.write()\n",
    "                else:\n",
    "                    REC.kill()\n",
    "\n",
    "                if not REC.life:\n",
    "                    print(\"\\nrec end\")\n",
    "                    break\n",
    "\n",
    "\n",
    "#================================================\n",
    "\n",
    "    \n",
    "def tk_main(dic):\n",
    "    _app = _MainFrame(dic)\n",
    "    _app.master.title(_app.name)\n",
    "    _app.mainloop()\n",
    "\n",
    "\n",
    "    \n",
    "if __name__ == '__main__':\n",
    "    with Manager() as manager:\n",
    "        shared_dict = manager.dict()\n",
    "\n",
    "        shared_dict[\"output_Path\"] = \"./\"\n",
    "        shared_dict[\"output_NameBace\"] = \"test\"\n",
    "        shared_dict[\"cam_Port\"] = 0\n",
    "        shared_dict[\"config_Fps\"] = 30.0\n",
    "        shared_dict[\"cap_TimeSpan\"] = 5\n",
    "        shared_dict[\"rec_type\"] = 1\n",
    "        shared_dict[\"rec_state\"] = False\n",
    "        shared_dict[\"cap\"] = False,None\n",
    "\n",
    "        Process1 = Process(target=tk_main,args =(shared_dict,))\n",
    "        Process2 = Process(target=cv_main,args =(shared_dict,))\n",
    "\n",
    "        Process1.start()\n",
    "        Process2.start()\n",
    "        Process1.join()\n",
    "        Process2.join()"
   ]
  },
  {
   "cell_type": "markdown",
   "id": "5692bbc8",
   "metadata": {},
   "source": [
    "複数作成したときは、フレーム名のついたボタンをおせば呼び出せます。コマンドで呼び出すことも出来ます（便利関数例　Switch_Frame）"
   ]
  },
  {
   "cell_type": "markdown",
   "id": "29130f9f",
   "metadata": {},
   "source": [
    "# widgetのサンプルを幾つか例示する。"
   ]
  },
  {
   "cell_type": "markdown",
   "id": "d3ce1511",
   "metadata": {},
   "source": [
    "- *1 はstyle_settingのところに張り付けると利用できる\n",
    "- *2 はdefine_widgetsのところに張り付ける。\n",
    "- *3 はUser_commands1のところに張り付ける。_MainFrame内の値を使う関数はここに書く方が扱いやすいと思います。(自分が利用したい関数などもここに書く)\n",
    "- *4 はUser_commands2のところに張り付ける。(自分が利用したい関数などもここに書く)\n",
    "- より詳しいoption等は、[reference](#reference)を参照してください。"
   ]
  },
  {
   "cell_type": "markdown",
   "id": "8a40966e",
   "metadata": {},
   "source": [
    "## Button"
   ]
  },
  {
   "cell_type": "markdown",
   "id": "0629cf62",
   "metadata": {},
   "source": [
    "基本構文  \n",
    "w = Button(parent,option = \"val\",...)\n",
    "\n",
    "主なoption\n",
    "\n",
    "|option名|例文|説明等|\n",
    "|-|-|-|\n",
    "|text|text = \"text\"||\n",
    "|command|command =func |ボタンを押したとき実行する関数を設定する。この時、ここで設定するのは、実行する関数、\"command = func()\"のようにすると、ここで関数が実行され、その値が呼び出される関数になる。関数に引数を与えたい場合は、class化するなどする必要がある。\n"
   ]
  },
  {
   "cell_type": "markdown",
   "id": "028a8764",
   "metadata": {},
   "source": [
    "\"sample\"という名前のフレームを作成し、そこに\"Button1\"を作成、その後\"sample\"の一行(row=0)一列目(column=0)に配置する。"
   ]
  },
  {
   "cell_type": "markdown",
   "id": "f627660b",
   "metadata": {},
   "source": [
    "*2"
   ]
  },
  {
   "cell_type": "code",
   "execution_count": null,
   "id": "d59a7142",
   "metadata": {
    "scrolled": false
   },
   "outputs": [],
   "source": [
    "        self._MakeFrame(\"sample\")\n",
    "        self.sample.Button1 = Button(self.sample,text=\"test\",command=test)\n",
    "        self.sample.Button1.grid(row=0,column=0)"
   ]
  },
  {
   "cell_type": "markdown",
   "id": "348725fd",
   "metadata": {},
   "source": [
    "*4"
   ]
  },
  {
   "cell_type": "code",
   "execution_count": null,
   "id": "3d654a41",
   "metadata": {},
   "outputs": [],
   "source": [
    "def test():\n",
    "    print(\"test\")"
   ]
  },
  {
   "cell_type": "markdown",
   "id": "6a033806",
   "metadata": {},
   "source": [
    "### 複数の関数を呼び出したいとき"
   ]
  },
  {
   "cell_type": "markdown",
   "id": "13244da2",
   "metadata": {},
   "source": [
    "実行順序はfunc1 -> func2の順になる。"
   ]
  },
  {
   "cell_type": "code",
   "execution_count": null,
   "id": "ce078762",
   "metadata": {},
   "outputs": [],
   "source": [
    "command=self._combineFunc(func1,func2)"
   ]
  },
  {
   "cell_type": "markdown",
   "id": "7c1d885b",
   "metadata": {},
   "source": [
    "## text"
   ]
  },
  {
   "cell_type": "markdown",
   "id": "10fc2c39",
   "metadata": {},
   "source": [
    "基本構文  \n",
    "w = Label(parent,option = \"val\",...)\n",
    "\n",
    "主なoption\n",
    "\n",
    "|option名|例文|説明等|\n",
    "|-|-|-|\n",
    "|text|text = \"text\"|文字表示|\n",
    "|textvariable|textvariable =text |textvariableは\"StringVar\"で定義する。  textvariableの中身を決定するときは、w.set()、中身を取り出すときはx.get()で取り出せる。|"
   ]
  },
  {
   "cell_type": "markdown",
   "id": "2f5123ca",
   "metadata": {},
   "source": [
    "*2"
   ]
  },
  {
   "cell_type": "code",
   "execution_count": null,
   "id": "31f93973",
   "metadata": {},
   "outputs": [],
   "source": [
    "        self._MakeFrame(\"sample\")\n",
    "        self.sample.Label1 = Label(self.sample,text=\"test\",command=test)\n",
    "        self.sample.Label1.grid(row=0,column=0)"
   ]
  },
  {
   "cell_type": "markdown",
   "id": "4e506025",
   "metadata": {},
   "source": [
    "## Entry"
   ]
  },
  {
   "cell_type": "markdown",
   "id": "040db8e0",
   "metadata": {},
   "source": [
    "基本構文  \n",
    "w = Entry(parent,option = \"val\",...)\n",
    "\n",
    "主なoption\n",
    "\n",
    "|option名|例文|説明等|\n",
    "|-|-|-|\n",
    "|text|text = \"text\"||\n",
    "|textvariable|textvariable =text |textvariableは\"StringVar\"で定義する。  textvariableの中身を決定するときは、w.set()、中身を取り出すときはx.get()で取り出せる。|\n"
   ]
  },
  {
   "cell_type": "markdown",
   "id": "8b46cfd1",
   "metadata": {},
   "source": [
    "instanceにself.textを追加、StringVar()で定義しておく。"
   ]
  },
  {
   "cell_type": "code",
   "execution_count": null,
   "id": "d8002e14",
   "metadata": {},
   "outputs": [],
   "source": [
    "        self.text = StringVar()"
   ]
  },
  {
   "cell_type": "markdown",
   "id": "d2a54a54",
   "metadata": {},
   "source": [
    "*2"
   ]
  },
  {
   "cell_type": "code",
   "execution_count": null,
   "id": "3fe4fc0c",
   "metadata": {},
   "outputs": [],
   "source": [
    "        self._MakeFrame(\"sample\")\n",
    "        self.sample.Entry1 = Entry(self.sample,textvariable=self.text,command=test)\n",
    "        self.sample.Entry1.grid(row=0,column=0)\n",
    "        \n",
    "        #取得できたかどうかの確認用のButtan\n",
    "        self.sample.Button2 = Button(self.sample,textvariable=self.text,command=self.textprint)\n",
    "        self.sample.Button2.grid(row=0,column=1)"
   ]
  },
  {
   "cell_type": "markdown",
   "id": "b4b963e6",
   "metadata": {},
   "source": [
    "*3"
   ]
  },
  {
   "cell_type": "code",
   "execution_count": 25,
   "id": "eea89bf6",
   "metadata": {},
   "outputs": [],
   "source": [
    "def textprint(self):\n",
    "    print(self.sample.Entry1.get())"
   ]
  },
  {
   "cell_type": "markdown",
   "id": "91448bda",
   "metadata": {},
   "source": [
    "### Entryにスクロールバーをつけたいとき"
   ]
  },
  {
   "cell_type": "markdown",
   "id": "8f8ba141",
   "metadata": {},
   "source": [
    "*2"
   ]
  },
  {
   "cell_type": "code",
   "execution_count": null,
   "id": "13613e77",
   "metadata": {},
   "outputs": [],
   "source": [
    "        self.sample.entryScroll = Scrollbar(self.sample, orient=HORIZONTAL,command=self.__scrollHandler)\n",
    "        self.sample.entryScroll.grid(row=1,column=0, sticky=E+W)#Entryの下に配置する。\n",
    "        self.sample.Entry1['xscrollcommand'] = self.sample.entryScroll.set"
   ]
  },
  {
   "cell_type": "markdown",
   "id": "6da957e3",
   "metadata": {},
   "source": [
    "*3"
   ]
  },
  {
   "cell_type": "code",
   "execution_count": null,
   "id": "5ce951db",
   "metadata": {},
   "outputs": [],
   "source": [
    "    def __scrollHandler(self, *L):\n",
    "        op, howMany = L[0], L[1]\n",
    "        if op == 'scroll':\n",
    "            units = L[2]\n",
    "            self.sample.Entry1.xview_scroll(howMany, units)\n",
    "        elif op == 'moveto':\n",
    "            self.sample.Entry1.xview_moveto(howMany)"
   ]
  },
  {
   "cell_type": "markdown",
   "id": "c9b0733b",
   "metadata": {},
   "source": [
    "## Checkbutton"
   ]
  },
  {
   "cell_type": "markdown",
   "id": "e21c25e1",
   "metadata": {},
   "source": [
    "基本構文  \n",
    "w = Checkbutton(parent, option=val, ...)  \n",
    "\n",
    "w.get()及びw.set()で\"True\",\"False\"のブール値を取得及び設定できる。  \n",
    "w.select()でon状態にできる。  \n",
    "w.toggle()でon,off状態を切り替えれる。"
   ]
  },
  {
   "cell_type": "markdown",
   "id": "4ff71933",
   "metadata": {},
   "source": [
    "主なoption\n",
    "\n",
    "|option名|例文|説明等|\n",
    "|-|-|-|\n",
    "|text|text = \"text\"|文字表示|\n",
    "|command|command=func|クリックしたときに呼び出す関数|"
   ]
  },
  {
   "cell_type": "markdown",
   "id": "164a9c2b",
   "metadata": {},
   "source": [
    "*2"
   ]
  },
  {
   "cell_type": "code",
   "execution_count": null,
   "id": "3886e548",
   "metadata": {},
   "outputs": [],
   "source": [
    "        self._MakeFrame(\"sample\")\n",
    "        self.sample.CB = Checkbutton(self.sample, text = \"on\",command=test)\n",
    "        self.sample.CB.grid(row=1,column=0, sticky=E+W)"
   ]
  },
  {
   "cell_type": "markdown",
   "id": "d265601c",
   "metadata": {},
   "source": [
    "*4"
   ]
  },
  {
   "cell_type": "code",
   "execution_count": null,
   "id": "b0218135",
   "metadata": {},
   "outputs": [],
   "source": [
    "def test():\n",
    "    print(\"test\")"
   ]
  },
  {
   "cell_type": "markdown",
   "id": "43139a72",
   "metadata": {},
   "source": [
    "## Frame"
   ]
  },
  {
   "cell_type": "markdown",
   "id": "06a134b2",
   "metadata": {},
   "source": [
    "widgetの入れ物となれるもの、主にwidgetをまとめるときに用いる。あくまで枠なので、中身を設定しないと描画されない。\n",
    "\n",
    "w = Frame(parent,option=val,...)"
   ]
  },
  {
   "cell_type": "markdown",
   "id": "4b990b94",
   "metadata": {},
   "source": [
    "*2"
   ]
  },
  {
   "cell_type": "code",
   "execution_count": null,
   "id": "fd15f438",
   "metadata": {},
   "outputs": [],
   "source": [
    "        self._MakeFrame(\"sample\")\n",
    "        self.sample.F = Frame(self.sample,bg=\"#E1ECF4\")\n",
    "        self.sample.F.grid(row=1,column=0, sticky=E+W)\n",
    "        \n",
    "        #中身\n",
    "        self.T1 = Label(self.sample.F,text=\"sample\").grid(row=0,column=0)\n",
    "        self.B1 = Button(self.sample.F,text=\"button\").grid(row=0,column=1,padx=10,pady=5)\n",
    "        self.E1 = Entry(self.sample.F).grid(row=1,column=0)"
   ]
  },
  {
   "cell_type": "markdown",
   "id": "028a6a21",
   "metadata": {},
   "source": [
    "##  Listbox widget"
   ]
  },
  {
   "cell_type": "markdown",
   "id": "000c2a67",
   "metadata": {},
   "source": [
    "文字の配列を表示できる。標準では10個まででそれ以上を表示する場合は、改変が必要。"
   ]
  },
  {
   "cell_type": "code",
   "execution_count": null,
   "id": "884684d8",
   "metadata": {},
   "outputs": [],
   "source": [
    "        self._MakeFrame(\"sample\")\n",
    "        self.sample.LB = Listbox(self.sample,bg=\"#E1ECF4\")\n",
    "        self.sample.LB.insert(1,\"test\",\"pre\",\"experiment\") #intert(index,\"label\",\"label2\",,,,)でラベルを追加する。\n",
    "        self.sample.LB.grid(row=1,column=0, sticky=E+W)\n"
   ]
  },
  {
   "cell_type": "markdown",
   "id": "0934285a",
   "metadata": {},
   "source": [
    "項目の追加"
   ]
  },
  {
   "cell_type": "code",
   "execution_count": null,
   "id": "64cdfd16",
   "metadata": {},
   "outputs": [],
   "source": [
    "self.sample.LB.insert(1,\"test\",\"pre\",\"experiment\") #intert(index,\"label\",\"label2\",,,,)でラベルを追加する。"
   ]
  },
  {
   "cell_type": "markdown",
   "id": "6fc6d2dd",
   "metadata": {},
   "source": [
    "項目の削除  \n",
    "index firstからlastのインデックスまで削除する。\n",
    "二項目に   tkinter.END  または、  last=None   と書き込めば最後まで消せる。"
   ]
  },
  {
   "cell_type": "code",
   "execution_count": null,
   "id": "ab224584",
   "metadata": {},
   "outputs": [],
   "source": [
    "self.sample.LB.delete(first, last=None)"
   ]
  },
  {
   "cell_type": "markdown",
   "id": "2d31a2db",
   "metadata": {},
   "source": [
    "選択の解除  \n",
    "firstからlastまでのインデックスのコードを選択解除できる。\n",
    "”last=”の項目を書き込まなければ、firstの項目を選択することが出来る。"
   ]
  },
  {
   "cell_type": "code",
   "execution_count": null,
   "id": "d2728e75",
   "metadata": {},
   "outputs": [],
   "source": [
    "self.sample.LB.select_clear(first, last=None)"
   ]
  },
  {
   "cell_type": "markdown",
   "id": "657d74b6",
   "metadata": {},
   "source": [
    "以下、必要があれば追記します。"
   ]
  },
  {
   "cell_type": "markdown",
   "id": "936739cd",
   "metadata": {},
   "source": [
    "## Menu widget"
   ]
  },
  {
   "cell_type": "markdown",
   "id": "df6cbdec",
   "metadata": {},
   "source": [
    "ドロップダウンメニューの作成"
   ]
  },
  {
   "cell_type": "markdown",
   "id": "dd34eee4",
   "metadata": {},
   "source": [
    "w = Menu(mb, option, ...)"
   ]
  },
  {
   "cell_type": "markdown",
   "id": "fcdc862e",
   "metadata": {},
   "source": [
    "##  Top-level menus"
   ]
  },
  {
   "cell_type": "markdown",
   "id": "6077587a",
   "metadata": {},
   "source": [
    "windowの上側に表示されるメニュー欄などの設定"
   ]
  },
  {
   "cell_type": "code",
   "execution_count": null,
   "id": "0f28ab15",
   "metadata": {},
   "outputs": [],
   "source": [
    "top = self.winfo_toplevel()\n",
    "self.menuBar = tk.Menu(top)\n",
    "top['menu'] = self.menuBar\n",
    "self.subMenu = tk.Menu(self.menuBar)\n",
    "self.menuBar.add_cascade(label='Help', menu=self.subMenu)\n",
    "self.subMenu.add_command(label='About', command=self.__aboutHandler)"
   ]
  },
  {
   "cell_type": "markdown",
   "id": "3c0cf6c7",
   "metadata": {},
   "source": [
    "## Menubutton"
   ]
  },
  {
   "cell_type": "code",
   "execution_count": null,
   "id": "7da52aef",
   "metadata": {},
   "outputs": [],
   "source": [
    "w = Menubutton(parent, option, ...)"
   ]
  },
  {
   "cell_type": "code",
   "execution_count": null,
   "id": "36a3273e",
   "metadata": {},
   "outputs": [],
   "source": [
    "self.mb = tk.Menubutton(self, text='condiments',\n",
    "relief=RAISED)\n",
    "self.mb.grid()\n",
    "self.mb.menu = tk.Menu(self.mb, tearoff=0)\n",
    "self.mb['menu'] = self.mb.menu\n",
    "self.mayoVar = tk.IntVar()\n",
    "self.ketchVar = tk.IntVar()\n",
    "self.mb.menu.add_checkbutton(label='mayo',\n",
    "variable=self.mayoVar)\n",
    "self.mb.menu.add_checkbutton(label='ketchup',\n",
    "variable=self.ketchVar)"
   ]
  },
  {
   "cell_type": "markdown",
   "id": "8b6a319d",
   "metadata": {},
   "source": [
    "## The Message widget"
   ]
  },
  {
   "cell_type": "markdown",
   "id": "da44000c",
   "metadata": {},
   "source": [
    "メッセージウィンドウを表示する。"
   ]
  },
  {
   "cell_type": "code",
   "execution_count": null,
   "id": "78463190",
   "metadata": {},
   "outputs": [],
   "source": [
    "w = Message(parent, option, ...)"
   ]
  },
  {
   "cell_type": "markdown",
   "id": "ad580a78",
   "metadata": {},
   "source": [
    "##  The PanedWindow widget"
   ]
  },
  {
   "cell_type": "code",
   "execution_count": null,
   "id": "6134920e",
   "metadata": {},
   "outputs": [],
   "source": [
    "w = PanedWindow(parent, option, ...)"
   ]
  },
  {
   "cell_type": "markdown",
   "id": "333b9f84",
   "metadata": {},
   "source": [
    "## The Scale widget"
   ]
  },
  {
   "cell_type": "markdown",
   "id": "dec9c830",
   "metadata": {},
   "source": [
    "可変ボリュームの作成"
   ]
  },
  {
   "cell_type": "code",
   "execution_count": null,
   "id": "55a7bc7a",
   "metadata": {},
   "outputs": [],
   "source": [
    "w = Scale(parent, option, ...)"
   ]
  },
  {
   "cell_type": "markdown",
   "id": "b1d87868",
   "metadata": {},
   "source": [
    "# 便利関数例"
   ]
  },
  {
   "cell_type": "markdown",
   "id": "03cb4818",
   "metadata": {},
   "source": [
    "## Switch_Frame フレームの切り替え関数"
   ]
  },
  {
   "cell_type": "markdown",
   "id": "a1e40cb7",
   "metadata": {},
   "source": [
    "呼び出したいフレームの名前を引数に与えれば、そのフレーム(_MakeFrameで作ったフレーム)を呼び出すことが出来る。"
   ]
  },
  {
   "cell_type": "markdown",
   "id": "3ea1c8c4",
   "metadata": {},
   "source": [
    "*3"
   ]
  },
  {
   "cell_type": "code",
   "execution_count": null,
   "id": "3124adc0",
   "metadata": {},
   "outputs": [],
   "source": [
    "    def Switch_Frame(self.Frame):\n",
    "        self._OffPalse\n",
    "        code0 = \"self.\"+Frame+\".grid\"\n",
    "        exec(code0)\n",
    "    #buttonのcommandでは引数を与えられないのでbuttanで使うときは、それぞれ以下のような関数を作成して呼び出してください。  \n",
    "    def callF1(self):\n",
    "        Switch_Frame(\"F1\")"
   ]
  },
  {
   "cell_type": "markdown",
   "id": "77aed639",
   "metadata": {},
   "source": [
    "使用例"
   ]
  },
  {
   "cell_type": "markdown",
   "id": "2dbb4cf1",
   "metadata": {},
   "source": [
    "初めにsampleのフレームを表示し、ボタンが押されるとF1に切り替わる。"
   ]
  },
  {
   "cell_type": "markdown",
   "id": "b8a7664f",
   "metadata": {},
   "source": [
    "*2"
   ]
  },
  {
   "cell_type": "code",
   "execution_count": null,
   "id": "0c11db82",
   "metadata": {},
   "outputs": [],
   "source": [
    "        self._MakeFrame(\"sample\")\n",
    "        self._MakeFrame(\"F1\")\n",
    "        self.Switch_Frame(\"sample\")\n",
    "        \n",
    "        self.sample.B = Button(self.sample,text = \"apper F1\",command=self.callF1)\n",
    "        self.sample.B.grid(row=0,column=0)\n",
    "        self.F1.B = Button(self.F1,text = \"apper sample\",command=self.callsample)\n",
    "        self.F1.B.grid(row=0,column=0)"
   ]
  },
  {
   "cell_type": "markdown",
   "id": "ebf2468b",
   "metadata": {},
   "source": [
    "*3"
   ]
  },
  {
   "cell_type": "code",
   "execution_count": null,
   "id": "2b4e0ad6",
   "metadata": {},
   "outputs": [],
   "source": [
    "    def Switch_Frame(self,Frame):\n",
    "        #self._OffPalse()\n",
    "        code0 = \"self.\"+Frame+\".grid()\"\n",
    "        exec(code0)\n",
    "        \n",
    "    def callF1(self):\n",
    "        self.Switch_Frame(\"F1\")\n",
    "    def callsample(self):\n",
    "        self.Switch_Frame(\"sample\")"
   ]
  },
  {
   "cell_type": "markdown",
   "id": "9a67e1ca",
   "metadata": {},
   "source": [
    "_MakeFrame のself._M1button(name)を以下のようにコメントアウトすれば、動作チェック用のボタンの表示を消せます。"
   ]
  },
  {
   "cell_type": "code",
   "execution_count": null,
   "id": "0ed2ec0d",
   "metadata": {},
   "outputs": [],
   "source": [
    "    def _MakeFrame(self,name):\n",
    "        self._OffPalse()\n",
    "        code0 = \"self.\"+ name + \"= ttk.LabelFrame(self.UserFrame,style=\\\"UseFrame.TLabelframe\\\",text=\\\"\"+name+\"\\\",padding=[0,5],relief=\\\"flat\\\")\"\n",
    "        code1 = \"self.\"+ name + \".grid(row=0,column=0,sticky = N+E+W+S)\"\n",
    "        exec(code0)\n",
    "        exec(code1)\n",
    "        #self._M1button(name)"
   ]
  },
  {
   "cell_type": "markdown",
   "id": "63ad49b8",
   "metadata": {},
   "source": [
    "## ディレクトリパスの取得用ボタン及びエントリー"
   ]
  },
  {
   "cell_type": "markdown",
   "id": "4ad77f25",
   "metadata": {},
   "source": [
    "ボタンを押せばファイルダイアログを表示でき、パスを取得できます。(self.path1に)"
   ]
  },
  {
   "cell_type": "code",
   "execution_count": null,
   "id": "f58a2c77",
   "metadata": {},
   "outputs": [],
   "source": [
    "import os,sys\n",
    "from tkinter import filedialog"
   ]
  },
  {
   "cell_type": "markdown",
   "id": "2eccabea",
   "metadata": {},
   "source": [
    "instans"
   ]
  },
  {
   "cell_type": "code",
   "execution_count": null,
   "id": "8c75eda2",
   "metadata": {},
   "outputs": [],
   "source": [
    "        self.path1 = StringVar()"
   ]
  },
  {
   "cell_type": "markdown",
   "id": "5b1f89b8",
   "metadata": {},
   "source": [
    "2*"
   ]
  },
  {
   "cell_type": "code",
   "execution_count": null,
   "id": "290e216e",
   "metadata": {},
   "outputs": [],
   "source": [
    "self.sample.B2 = Button(self.sample,text = \"pathdir\",command = self.dirdialog_clicked).grid(row = 1,column=0)"
   ]
  },
  {
   "cell_type": "markdown",
   "id": "ff761f52",
   "metadata": {},
   "source": [
    "4*"
   ]
  },
  {
   "cell_type": "code",
   "execution_count": 1,
   "id": "b3f5d0e7",
   "metadata": {},
   "outputs": [],
   "source": [
    "    def dirdialog_clicked(self):\n",
    "        iDir = os.path.abspath(os.path.dirname(__file__))\n",
    "        iDirPath = filedialog.askdirectry(initialdir = iDir)\n",
    "        self.path1 = iDirPath"
   ]
  },
  {
   "cell_type": "markdown",
   "id": "b0ba06ad",
   "metadata": {},
   "source": [
    "※__file__をjpyter notebook上で呼び出そうとするとエラーが出ます。実機上では大丈夫なはずです。"
   ]
  },
  {
   "cell_type": "markdown",
   "id": "a9530986",
   "metadata": {},
   "source": [
    "## ファイルパスの取得"
   ]
  },
  {
   "cell_type": "markdown",
   "id": "2ee513bc",
   "metadata": {},
   "source": [
    "押せばファイルダイアログを表示でき、ファイルパスを取得できます。(self.path1に)"
   ]
  },
  {
   "cell_type": "code",
   "execution_count": 3,
   "id": "e2025fc5",
   "metadata": {},
   "outputs": [],
   "source": [
    "import os,sys\n",
    "from tkinter import filedialog"
   ]
  },
  {
   "cell_type": "markdown",
   "id": "0585fd3d",
   "metadata": {},
   "source": [
    "instance\n",
    "\n",
    "値の保持用の変数"
   ]
  },
  {
   "cell_type": "code",
   "execution_count": null,
   "id": "81f952a8",
   "metadata": {},
   "outputs": [],
   "source": [
    "self.path1 = StringVar()"
   ]
  },
  {
   "cell_type": "markdown",
   "id": "71ebdb49",
   "metadata": {},
   "source": [
    "2*"
   ]
  },
  {
   "cell_type": "code",
   "execution_count": null,
   "id": "77a0c57e",
   "metadata": {},
   "outputs": [],
   "source": [
    "self.sample.B2 = Button(self.sample,text = \"pathdir\",command = self.dirdialog_clicked).grid(row = 1,column=0)"
   ]
  },
  {
   "cell_type": "markdown",
   "id": "18b71020",
   "metadata": {},
   "source": [
    "4*"
   ]
  },
  {
   "cell_type": "code",
   "execution_count": null,
   "id": "a51f1c78",
   "metadata": {},
   "outputs": [],
   "source": [
    "    def filedialog_clicked(self):\n",
    "        fType = [(\"\",\"*\")]\n",
    "        iFile = os.path.abspath(os.path.dirname(__file__))\n",
    "        iFilePath = filedialog.askopenfilename(filetype = fType,initialdir = iFile)\n",
    "        self.path1 = iFilePathe"
   ]
  },
  {
   "cell_type": "markdown",
   "id": "676205d1",
   "metadata": {},
   "source": [
    "## usbカメラの映像を表示する。"
   ]
  },
  {
   "cell_type": "markdown",
   "id": "d38a3fbd",
   "metadata": {},
   "source": [
    "動画を取るときは、キャプチャのマウントの関係で、サブプロセスで回すなり、工夫が必要になる。"
   ]
  },
  {
   "cell_type": "code",
   "execution_count": null,
   "id": "b9b14bd4",
   "metadata": {},
   "outputs": [],
   "source": [
    "        self.video = MyVideoCapture(self.Video_source)\n",
    "    \n",
    "        self.main.C1 = tkinter.Canvas(self.main,width = self.video.width,height = self.video.height)\n",
    "        self.main.columnconfigure(1,minsize=self.video.width)\n",
    "            \n",
    "        self.main.C1.grid(row = 0,column=1,rowspan = 3,sticky = N+E+S+W)"
   ]
  },
  {
   "cell_type": "code",
   "execution_count": null,
   "id": "12041ca3",
   "metadata": {},
   "outputs": [],
   "source": [
    "#User_commands2===================================\n",
    "class MyVideoCapture:#capture to UI\n",
    "    def __init__(self, video_source):\n",
    "        # Open the video source\n",
    "        self.vid = cv2.VideoCapture(video_source)\n",
    "        if not self.vid.isOpened():\n",
    "            raise ValueError(\"Unable to open video source\", video_source)\n",
    "\n",
    "        # Get video source width and height\n",
    "        self.width = self.vid.get(cv2.CAP_PROP_FRAME_WIDTH)\n",
    "        self.height = self.vid.get(cv2.CAP_PROP_FRAME_HEIGHT)\n",
    "\n",
    "    def get_frame(self):\n",
    "        print(\"\\r\",self.vid.isOpened(),end=\"\")\n",
    "        if self.vid.isOpened():\n",
    "            ret, frame = self.vid.read()\n",
    "            if ret:\n",
    "                # Return a boolean success flag and the current frame converted to BGR\n",
    "                return (ret, cv2.cvtColor(frame, cv2.COLOR_BGR2RGB))\n",
    "            else:\n",
    "                return (ret, None)\n",
    "        else:\n",
    "            return (ret, None)\n",
    "    def release(self):\n",
    "        self.vid.release()\n",
    "    # Release the video source when the object is destroyed\n",
    "    def __del__(self):\n",
    "        try:\n",
    "            if self.vid.isOpened():\n",
    "                self.vid.release()\n",
    "        except:\n",
    "            pass"
   ]
  },
  {
   "cell_type": "markdown",
   "id": "eb77218f",
   "metadata": {},
   "source": [
    "## フレームの中身を全部消す　＊"
   ]
  },
  {
   "cell_type": "code",
   "execution_count": 5,
   "id": "3d143db5",
   "metadata": {},
   "outputs": [],
   "source": [
    "from tkinter import *\n",
    "\n",
    "root = Tk()\n",
    "\n",
    "def clear():\n",
    "    list = root.grid_slaves()\n",
    "    for l in list:\n",
    "        l.destroy()\n",
    "    Label(root,text='Hello World!').grid(row=0)\n",
    "    Label(root,text='Hello World!').grid(row=3)\n",
    "    Button(root,text='Clear',command=clear).grid(row=1)\n",
    "\n",
    "Label(root,text='Hello World!').grid(row=0)\n",
    "Button(root,text='Clear',command=lambda:clear()).grid(row=1)\n",
    "\n",
    "root.mainloop()"
   ]
  },
  {
   "cell_type": "markdown",
   "id": "04d8b1e7",
   "metadata": {},
   "source": [
    "# 配置について"
   ]
  },
  {
   "cell_type": "markdown",
   "id": "cc799601",
   "metadata": {},
   "source": [
    "tk でのwidgetの配置方法（ジオメトリーマネージャ）は３つある。  \n",
    "1つ目が行と列を決め、その何行何列目に配置するのか決める .grid()  \n",
    "2つ目が直接親となるところに１次元的に配置する .pack()  \n",
    "3つ目が親の左上の座標を原点とし、座標で設定する .place()  \n",
    "\n",
    "このプログラムでは、全体の親となる\"_MainFrame\"を.grid()で表示しており、複数を併用すると、混乱を招くので主に.grid()での配置法について記す。"
   ]
  },
  {
   "cell_type": "markdown",
   "id": "3ad693c6",
   "metadata": {},
   "source": [
    "## .grid()"
   ]
  },
  {
   "cell_type": "markdown",
   "id": "dbe7b570",
   "metadata": {},
   "source": [
    "基本構文\n",
    "w.grid(option=val,...)"
   ]
  },
  {
   "cell_type": "markdown",
   "id": "f2eed888",
   "metadata": {},
   "source": [
    "option 一覧　[[1]](#1)\n",
    "\n",
    "|option |説明 |例文|\n",
    "|-|-|-|\n",
    "|column\t    |配置する列です。|column=0|\n",
    "|row\t    |配置する行です。|row = 1|\n",
    "|columnspan\t|何列にわたって配置するかを指定します。デフォルトは 1 です。|columnspan=2|\n",
    "|rowspan\t|何行にわたって配置するかを指定します。デフォルトは 1 です。|rowspan=3|\n",
    "|padx\t    |外側の横の隙間(px値)を指定します。|padx=10|\n",
    "|pady\t    |外側の縦の隙間(px値)を指定します。|pady=10|\n",
    "|ipadx\t    |内側の横の隙間(px値)を指定します。|ipadx=10|\n",
    "|ipady\t    |内側の縦の隙間(px値)を指定します。|ipady=10|\n",
    "|sticky\t    |どこに寄せるのか決める。|sticky = N,sticky = N+S|"
   ]
  },
  {
   "cell_type": "markdown",
   "id": "23404f45",
   "metadata": {},
   "source": [
    "### row column"
   ]
  },
  {
   "cell_type": "markdown",
   "id": "c14bdfc5",
   "metadata": {},
   "source": [
    "何行何列目に配置するか0行0列目から整数値で設定できる。"
   ]
  },
  {
   "cell_type": "code",
   "execution_count": null,
   "id": "cd67ab39",
   "metadata": {},
   "outputs": [],
   "source": [
    ".grid(row = 0,column=0)"
   ]
  },
  {
   "cell_type": "markdown",
   "id": "0cf173cb",
   "metadata": {},
   "source": [
    "### rowspan columnspan"
   ]
  },
  {
   "cell_type": "markdown",
   "id": "b961ef90",
   "metadata": {},
   "source": [
    "row columnで設定したところから何行分何列分を範囲とするのか決めることができる。  \n",
    ".grid(row = 2,column =1,rowspan = 3,columnspan=3)  \n",
    "とすると、2～4行1～3列、3x3の範囲をまとめることができる。\n",
    "\n",
    "幅を決めるだけなので、上記のように書いたうえで別のwidgetを  \n",
    ".grid(row=3,column=3)  \n",
    "で配置した場合上に重ねて表示される。"
   ]
  },
  {
   "cell_type": "code",
   "execution_count": null,
   "id": "3d4924d0",
   "metadata": {},
   "outputs": [],
   "source": [
    ".grid(row = 0,column=0,rowspan = 2,columnspan = 3)"
   ]
  },
  {
   "cell_type": "markdown",
   "id": "a6699bda",
   "metadata": {},
   "source": [
    "#### rowspan columnspanを利用するときのその他しておくべき設定"
   ]
  },
  {
   "cell_type": "markdown",
   "id": "7f532d89",
   "metadata": {},
   "source": [
    "rowspan columnspanの設定をしても、配置をいじらないと配置は左上に固定されているので表示が変わらない"
   ]
  },
  {
   "cell_type": "code",
   "execution_count": null,
   "id": "c4ee22db",
   "metadata": {},
   "outputs": [],
   "source": [
    ".grid(row = 0,column=0,rowspan = 2,columnspan = 3,sticky = N+E+S+W)#結合されたグリッドの中心に表示される。"
   ]
  },
  {
   "cell_type": "markdown",
   "id": "2633f983",
   "metadata": {},
   "source": [
    "### padx padx"
   ]
  },
  {
   "cell_type": "markdown",
   "id": "88d73cf1",
   "metadata": {},
   "source": [
    "widgetの外側にどれくらいの空白を与えるのかｐｉｘｅl値で設定できる。"
   ]
  },
  {
   "cell_type": "markdown",
   "id": "b1b02f5c",
   "metadata": {},
   "source": [
    "### ipadx ipadx"
   ]
  },
  {
   "cell_type": "markdown",
   "id": "ee180914",
   "metadata": {},
   "source": [
    "widgetの内側にどれくらいの空白を与えるのかｐｉｘｅl値で設定できる。\n",
    "\n",
    "button1は、\n",
    ".grid(padx=10,pady=5)  \n",
    "で配置し、  \n",
    "burron2は、\n",
    ".grid(ipadx=10,ipady=5)  \n",
    "で配置したときのボタンの表示↓（分かりやすいように背景は青にしている）"
   ]
  },
  {
   "attachments": {
    "image.png": {
     "image/png": "[encoded data removed]"
    }
   },
   "cell_type": "markdown",
   "id": "44f0121c",
   "metadata": {},
   "source": [
    "![image.png](attachment:image.png)"
   ]
  },
  {
   "cell_type": "markdown",
   "id": "f467dea9",
   "metadata": {},
   "source": [
    "### sticky"
   ]
  },
  {
   "cell_type": "markdown",
   "id": "f584171b",
   "metadata": {},
   "source": [
    "(上から右回りに北東南西”NWSE”組み合わせて、NE,SW)に寄せるのか決められる。  \n",
    "“N　E　W　S　NE　NW　SE　SW”はtkinter で定義されているので、from tkinter import tk のように書いたときは、tk.N,tk.SE　のように記述しないといけない。”N+E”の様に書くことも出来る。(本文では、\"from tkinter import *\"でtkを省略しています。)\n"
   ]
  },
  {
   "cell_type": "markdown",
   "id": "882a9bb9",
   "metadata": {},
   "source": [
    "## grid の詳細設定"
   ]
  },
  {
   "cell_type": "markdown",
   "id": "8c15c003",
   "metadata": {},
   "source": [
    "配置には関係しないが、何か動作したときに表示から消したりするときの方法など、\n",
    "\n",
    "以下の文中のwはwigetを指します。"
   ]
  },
  {
   "cell_type": "markdown",
   "id": "3d5076f6",
   "metadata": {},
   "source": [
    "### w.grid_info()\n",
    " wがどんなものなのか、wの行と列,ipadx,ipady、padx,pady,stickyの値を辞書型のデータで取得できる。(self.B1.grid_info())"
   ]
  },
  {
   "cell_type": "markdown",
   "id": "3eb9a440",
   "metadata": {},
   "source": [
    "### w.grid_forget() (self.B1.info())\n",
    " wを表示から消す。.grid()がもう一度読まれると、再び表示されるが、前のrow,columnなどの値はJ保持しない（忘れる）(self.B1.forget())"
   ]
  },
  {
   "cell_type": "markdown",
   "id": "42f279c2",
   "metadata": {},
   "source": [
    "### w.grid_remove()\n",
    " wを表示から消す。.grid()がもう一度よまれると、前のrow,columnの値のまま、前と同じように表示される。(self.B1.grid_remove())"
   ]
  },
  {
   "cell_type": "markdown",
   "id": "19d85a04",
   "metadata": {},
   "source": [
    "### w.grid_slaves()\n",
    " wの中にあるwigetの一覧を取得できる。grid_slaves(row=2),grid_slsves(column=0)の様に指定すれば、その行、列内にあるwiget一覧を取得できる。"
   ]
  },
  {
   "cell_type": "markdown",
   "id": "1b1a7573",
   "metadata": {},
   "source": [
    "### w.columnconfigure(N,opution=value,…), w.rowconfigure(N,opution=value,…)\n",
    "　N列(行)目に対して、以下に示す設定が出来る。"
   ]
  },
  {
   "cell_type": "markdown",
   "id": "9d938813",
   "metadata": {},
   "source": [
    "option一覧"
   ]
  },
  {
   "cell_type": "markdown",
   "id": "b211745e",
   "metadata": {},
   "source": [
    "#### minsize\n",
    "top-lebel-windowを縮小したとき、行(列)の最小の幅をpx値で設定できる。（デフォルト）"
   ]
  },
  {
   "cell_type": "markdown",
   "id": "5d453864",
   "metadata": {},
   "source": [
    "#### pad \n",
    "行（列）の幅は基本その行(列)内にあるwigetの最大の大きさに依存するが、それに加えて余白を追加できる。(self.columnconfigure(2,pad=10))\n",
    "pad = [1,10],pad=[3,4,5,4]のように書くと左右と上下、左、上、右、下それぞれ設定できる。"
   ]
  },
  {
   "cell_type": "markdown",
   "id": "a4d3ad30",
   "metadata": {},
   "source": [
    "#### weight\n",
    "行(列)がどの程度top-lebel-windowの大きさ変更に追従するのかを決めれる、（大きさを可変にするには少し書き方の工夫がいる。次項に例を示す。）二つの行に対しこのオプションをつけたとき、1行目には”weight=1”二行目には”weight=2”と書いたとき、余った幅を一行目に3分の1、二行目に3分の2に分配する。このオプションをつけていないものの大きさは変化しない。"
   ]
  },
  {
   "cell_type": "markdown",
   "id": "19c5d670",
   "metadata": {},
   "source": [
    "## .pack()"
   ]
  },
  {
   "cell_type": "markdown",
   "id": "7ed6a66b",
   "metadata": {},
   "source": [
    "基本構文  \n",
    "w.pack(option=val,...)"
   ]
  },
  {
   "cell_type": "markdown",
   "id": "49b16c7b",
   "metadata": {},
   "source": [
    "option一覧 [[1]](#1)\n",
    "\n",
    "|option| 説明|\n",
    "|-|-|\n",
    "|anchor|\t配置可能なスペースに余裕がある場合、Widget をどこに配置するか指定します。デフォルトは Tk.CENTER. stikyと同じものを使える。|\n",
    "|expand|\t親 widget が大きくなったとき、大きくなるかどうかを指定します。 1 を指定すると大きくなり、0 だとなりません。デフォルトは 0|\n",
    "|fill\t|widget が空いているスペースを埋めるかどうか指定します： Tk.NONE, 元のサイズを保持します。 Tk.X, 横に広がります。 Tk.Y, 縦に広がります。 Tk.BOTH, 縦横に広がります。|\n",
    "|padx\t|外側の横の隙間を指定します。|\n",
    "|pady\t|外側の縦の隙間を指定します。|\n",
    "|ipadx|\t内側の横の隙間を指定します。|\n",
    "|ipady|\t内側の縦の隙間を指定します。|\n",
    "|side\t|どの方向からつめていくかを指定します：Tk.TOP (default), 上からつめます。 Tk.LEFT, 左からつめます。Tk.RIGHT, 右からつめます。Tk.BOTTOM, 下からつめます。|"
   ]
  },
  {
   "cell_type": "markdown",
   "id": "a98034cc",
   "metadata": {},
   "source": [
    "# Style の書き方"
   ]
  },
  {
   "cell_type": "markdown",
   "id": "fe84e868",
   "metadata": {},
   "source": [
    "## fontset"
   ]
  },
  {
   "cell_type": "markdown",
   "id": "d98139d1",
   "metadata": {},
   "source": [
    "### 使用できるフォントファミリーの確認"
   ]
  },
  {
   "cell_type": "markdown",
   "id": "e71bc43d",
   "metadata": {},
   "source": [
    "以下のコードを実行したときに表示されるものが使えるフォント一覧です。"
   ]
  },
  {
   "cell_type": "code",
   "execution_count": 13,
   "id": "84e954c4",
   "metadata": {},
   "outputs": [
    {
     "name": "stdout",
     "output_type": "stream",
     "text": [
      "['System', '@System', 'Terminal', '@Terminal', 'FixedSys', '@FixedSys', 'Modern', 'Roman', 'Script', 'Courier', 'MS Serif', 'MS Sans Serif', 'Small Fonts', '@Small Fonts', 'Marlett', 'Arial', 'Arabic Transparent', 'Arial Baltic', 'Arial CE', 'Arial CYR', 'Arial Greek', 'Arial TUR', 'Arial Black', 'Bahnschrift Light', 'Bahnschrift SemiLight', 'Bahnschrift', 'Bahnschrift SemiBold', 'Bahnschrift Light SemiCondensed', 'Bahnschrift SemiLight SemiConde', 'Bahnschrift SemiCondensed', 'Bahnschrift SemiBold SemiConden', 'Bahnschrift Light Condensed', 'Bahnschrift SemiLight Condensed', 'Bahnschrift Condensed', 'Bahnschrift SemiBold Condensed', 'Calibri', 'Calibri Light', 'Cambria', 'Cambria Math', 'Candara', 'Candara Light', 'Comic Sans MS', 'Consolas', 'Constantia', 'Corbel', 'Corbel Light', 'Courier New', 'Courier New Baltic', 'Courier New CE', 'Courier New CYR', 'Courier New Greek', 'Courier New TUR', 'Ebrima', 'Franklin Gothic Medium', 'Gabriola', 'Gadugi', 'Georgia', 'Impact', 'Ink Free', 'Javanese Text', 'Leelawadee UI', 'Leelawadee UI Semilight', 'Lucida Console', 'Lucida Sans Unicode', 'Malgun Gothic', '@Malgun Gothic', 'Malgun Gothic Semilight', '@Malgun Gothic Semilight', 'Microsoft Himalaya', 'Microsoft JhengHei', '@Microsoft JhengHei', 'Microsoft JhengHei UI', '@Microsoft JhengHei UI', 'Microsoft JhengHei Light', '@Microsoft JhengHei Light', 'Microsoft JhengHei UI Light', '@Microsoft JhengHei UI Light', 'Microsoft New Tai Lue', 'Microsoft PhagsPa', 'Microsoft Sans Serif', 'Microsoft Tai Le', 'Microsoft YaHei', '@Microsoft YaHei', 'Microsoft YaHei UI', '@Microsoft YaHei UI', 'Microsoft YaHei Light', '@Microsoft YaHei Light', 'Microsoft YaHei UI Light', '@Microsoft YaHei UI Light', 'Microsoft Yi Baiti', 'MingLiU-ExtB', '@MingLiU-ExtB', 'PMingLiU-ExtB', '@PMingLiU-ExtB', 'MingLiU_HKSCS-ExtB', '@MingLiU_HKSCS-ExtB', 'Mongolian Baiti', 'ＭＳ ゴシック', '@ＭＳ ゴシック', 'MS UI Gothic', '@MS UI Gothic', 'ＭＳ Ｐゴシック', '@ＭＳ Ｐゴシック', 'MV Boli', 'Myanmar Text', 'Nirmala UI', 'Nirmala UI Semilight', 'Palatino Linotype', 'Segoe MDL2 Assets', 'Segoe Print', 'Segoe Script', 'Segoe UI', 'Segoe UI Black', 'Segoe UI Emoji', 'Segoe UI Historic', 'Segoe UI Light', 'Segoe UI Semibold', 'Segoe UI Semilight', 'Segoe UI Symbol', 'SimSun', '@SimSun', 'NSimSun', '@NSimSun', 'SimSun-ExtB', '@SimSun-ExtB', 'Sitka Small', 'Sitka Text', 'Sitka Subheading', 'Sitka Heading', 'Sitka Display', 'Sitka Banner', 'Sylfaen', 'Symbol', 'Tahoma', 'Times New Roman', 'Times New Roman Baltic', 'Times New Roman CE', 'Times New Roman CYR', 'Times New Roman Greek', 'Times New Roman TUR', 'Trebuchet MS', 'Verdana', 'Webdings', 'Wingdings', '游ゴシック', '@游ゴシック', 'Yu Gothic UI', '@Yu Gothic UI', 'Yu Gothic UI Semibold', '@Yu Gothic UI Semibold', '游ゴシック Light', '@游ゴシック Light', 'Yu Gothic UI Light', '@Yu Gothic UI Light', '游ゴシック Medium', '@游ゴシック Medium', 'Yu Gothic UI Semilight', '@Yu Gothic UI Semilight', 'BIZ UDゴシック', '@BIZ UDゴシック', 'BIZ UDPゴシック', '@BIZ UDPゴシック', 'BIZ UD明朝 Medium', '@BIZ UD明朝 Medium', 'BIZ UDP明朝 Medium', '@BIZ UDP明朝 Medium', 'メイリオ', '@メイリオ', 'Meiryo UI', '@Meiryo UI', 'ＭＳ 明朝', '@ＭＳ 明朝', 'ＭＳ Ｐ明朝', '@ＭＳ Ｐ明朝', 'UD デジタル 教科書体 N-B', '@UD デジタル 教科書体 N-B', 'UD デジタル 教科書体 NP-B', '@UD デジタル 教科書体 NP-B', 'UD デジタル 教科書体 NK-B', '@UD デジタル 教科書体 NK-B', 'UD デジタル 教科書体 N-R', '@UD デジタル 教科書体 N-R', 'UD デジタル 教科書体 NP-R', '@UD デジタル 教科書体 NP-R', 'UD デジタル 教科書体 NK-R', '@UD デジタル 教科書体 NK-R', '游明朝', '@游明朝', '游明朝 Demibold', '@游明朝 Demibold', '游明朝 Light', '@游明朝 Light', 'HoloLens MDL2 Assets', 'Book Antiqua', 'Arial Narrow', 'Bookman Old Style', 'Bookshelf Symbol 7', 'Century', 'Dubai', 'Dubai Light', 'Dubai Medium', 'Garamond', 'Century Gothic', 'HG正楷書体-PRO', '@HG正楷書体-PRO', 'HG丸ｺﾞｼｯｸM-PRO', '@HG丸ｺﾞｼｯｸM-PRO', 'Monotype Corsiva', 'MT Extra', 'OCRB', 'MS Outlook', 'MS Reference Sans Serif', 'MS Reference Specialty', 'Wingdings 2', 'Wingdings 3', 'HGｺﾞｼｯｸE', '@HGｺﾞｼｯｸE', 'HGPｺﾞｼｯｸE', '@HGPｺﾞｼｯｸE', 'HGSｺﾞｼｯｸE', '@HGSｺﾞｼｯｸE', 'HGｺﾞｼｯｸM', '@HGｺﾞｼｯｸM', 'HGPｺﾞｼｯｸM', '@HGPｺﾞｼｯｸM', 'HGSｺﾞｼｯｸM', '@HGSｺﾞｼｯｸM', 'HG行書体', '@HG行書体', 'HGP行書体', '@HGP行書体', 'HGS行書体', '@HGS行書体', 'HG教科書体', '@HG教科書体', 'HGP教科書体', '@HGP教科書体', 'HGS教科書体', '@HGS教科書体', 'HG明朝B', '@HG明朝B', 'HGP明朝B', '@HGP明朝B', 'HGS明朝B', '@HGS明朝B', 'HG明朝E', '@HG明朝E', 'HGP明朝E', '@HGP明朝E', 'HGS明朝E', '@HGS明朝E', 'HG創英角ﾎﾟｯﾌﾟ体', '@HG創英角ﾎﾟｯﾌﾟ体', 'HGP創英角ﾎﾟｯﾌﾟ体', '@HGP創英角ﾎﾟｯﾌﾟ体', 'HGS創英角ﾎﾟｯﾌﾟ体', '@HGS創英角ﾎﾟｯﾌﾟ体', 'HG創英ﾌﾟﾚｾﾞﾝｽEB', '@HG創英ﾌﾟﾚｾﾞﾝｽEB', 'HGP創英ﾌﾟﾚｾﾞﾝｽEB', '@HGP創英ﾌﾟﾚｾﾞﾝｽEB', 'HGS創英ﾌﾟﾚｾﾞﾝｽEB', '@HGS創英ﾌﾟﾚｾﾞﾝｽEB', 'HG創英角ｺﾞｼｯｸUB', '@HG創英角ｺﾞｼｯｸUB', 'HGP創英角ｺﾞｼｯｸUB', '@HGP創英角ｺﾞｼｯｸUB', 'HGS創英角ｺﾞｼｯｸUB', '@HGS創英角ｺﾞｼｯｸUB', 'Noto Sans', 'Bowlby One SC', 'Cabin Sketch', 'Cookie', 'Doppio One', 'Courgette', 'Orbitron', 'Euphorigenic', 'Great Vibes', 'Teko SemiBold', 'Kalam Light', 'Kalam', 'Lemon', 'Limelight', 'Megrim', 'Montserrat Subrayada', 'Permanent Marker', 'Russo One', 'Sigmar One', 'Yellowtail', 'Bungee Inline', 'Cinzel Black', 'Marcellus SC', 'Quicksand Light', 'Quicksand Medium', 'Quicksand', 'Ubuntu Mono', 'Fugaz One', 'Shrikhand', 'Playball', 'Inter', 'Open Sans', 'Open Sans Semibold', 'Georgia Pro Black', 'Georgia Pro', 'Georgia Pro Cond Black', 'Georgia Pro Cond', 'Georgia Pro Cond Light', 'Georgia Pro Cond Semibold', 'Georgia Pro Light', 'Georgia Pro Semibold', 'Ink Draft']\n"
     ]
    }
   ],
   "source": [
    "import tkinter as tk\n",
    "import tkinter.font as font\n",
    "\n",
    "root = tk.Tk()\n",
    "print(list(font.families()))"
   ]
  },
  {
   "cell_type": "markdown",
   "id": "d4fa75ae",
   "metadata": {},
   "source": [
    "## フォントの指定方法"
   ]
  },
  {
   "cell_type": "code",
   "execution_count": 14,
   "id": "1f8c3ac0",
   "metadata": {},
   "outputs": [],
   "source": [
    "root = Tk()\n",
    "\n",
    "Name_Font = tkinter.font.Font(family = \"System\",size = 16,weight = tkinter.font.BOLD,slant=\"italic\")\n",
    "L = Label(root,text = \"text\",font = Name_Font).grid(row=0,column=0, sticky=E)\n",
    "\n",
    "root.title(\"rootwin\")\n",
    "\n",
    "root.mainloop()"
   ]
  },
  {
   "cell_type": "markdown",
   "id": "54d5235a",
   "metadata": {},
   "source": [
    "## 色の定義"
   ]
  },
  {
   "cell_type": "markdown",
   "id": "e02c9ad9",
   "metadata": {},
   "source": [
    "カラーコードで色を設定でき、4ビット8ビット12ビットに対応しています。  \n",
    "#rgb  \n",
    "#rrggbb  \n",
    "#rrrgggbbb  \n",
    "\n",
    "いくつかの色は、名前でも設定できます。  \n",
    "  \n",
    "“black”,”white”,”green”,”blue”,”yellow”,”cyan”,”magenta”,”lightgreen”,etc.  "
   ]
  },
  {
   "cell_type": "markdown",
   "id": "bc5eaa64",
   "metadata": {},
   "source": [
    "## tkのStyle 設定"
   ]
  },
  {
   "cell_type": "markdown",
   "id": "11baeafc",
   "metadata": {},
   "source": [
    "tk(tool kit)のwidgetのスタイルの変更法  \n",
    "option として設定できる。(htmlと同じ手法)"
   ]
  },
  {
   "cell_type": "markdown",
   "id": "9ec1389a",
   "metadata": {},
   "source": [
    "tkのstyle option一覧（一部のみ、すべてのwidgetが対応しているもの、そのwidget固有の物などがあるため、詳しくは[reference](#reference)を参照してください）\n",
    "\n",
    "|opttion |説明|\n",
    "|-|-|\n",
    "|bg or background      |Normal background color.|\n",
    "|fg or foreground      |Normal foreground (text) color.|\n",
    "|font                  |Text font to be used for the button's label.|\n",
    "|highlightbackground   |Color of the focus highlight when the widget does not have focus.|\n",
    "|highlightcolor        |The color of the focus highlight when the widget has focus.|\n",
    "|highlightthickness    |Thickness of the focus highlight.|"
   ]
  },
  {
   "cell_type": "markdown",
   "id": "3703ca3d",
   "metadata": {},
   "source": [
    "例　黒地に白色の文字のテキスト"
   ]
  },
  {
   "cell_type": "markdown",
   "id": "56da7db1",
   "metadata": {},
   "source": [
    "*2"
   ]
  },
  {
   "cell_type": "markdown",
   "id": "d05999f1",
   "metadata": {},
   "source": [
    "どちらも可"
   ]
  },
  {
   "cell_type": "code",
   "execution_count": null,
   "id": "46eb4240",
   "metadata": {},
   "outputs": [],
   "source": [
    "        self.sample.Label1 = Label(self.sample,text=\"white\",bg=\"black\",fg=\"white\")\n",
    "        self.sample.Label1.grid(row=0,column=0)"
   ]
  },
  {
   "cell_type": "code",
   "execution_count": null,
   "id": "2e316c3d",
   "metadata": {},
   "outputs": [],
   "source": [
    "        self.sample.Label1 = Label(self.sample,text=\"white\",bg=\"#000\",fg=\"#fff\")\n",
    "        self.sample.Label1.grid(row=0,column=0)"
   ]
  },
  {
   "cell_type": "markdown",
   "id": "29db42a4",
   "metadata": {},
   "source": [
    "## ttkのStyle設定"
   ]
  },
  {
   "cell_type": "markdown",
   "id": "c07479ce",
   "metadata": {},
   "source": [
    "ttk(themed tool kit)のwidgetのスタイルの変更法、  \n",
    "名前の”theme”とあるように、色やフォントに名前を付けて呼び出すことでスタイルを変更する。（CSSと同じ手法）"
   ]
  },
  {
   "cell_type": "markdown",
   "id": "873bacee",
   "metadata": {},
   "source": [
    "styleのoption一覧(一部)"
   ]
  },
  {
   "cell_type": "markdown",
   "id": "792a92db",
   "metadata": {},
   "source": [
    "基本構文  \n",
    "S = ttk.Style()  \n",
    "S.configure(\"sefname.TButton\",option = val,...)\n",
    "\n",
    "   w = widget(style = \"sefname.TButton\")"
   ]
  },
  {
   "cell_type": "markdown",
   "id": "bbd05ffd",
   "metadata": {},
   "source": [
    "変数\"S\"は自由に決める。windowごとにテーマを変えるなら、それぞれのclassのインスタンスとして設定すると扱いやすい。  \n",
    "\n",
    "S.configre(A.B,option = val)  \n",
    "\n",
    "A.B　：呼び出すときの名前  \n",
    "Aは自由に決めることができる。  \n",
    "Bは旧名、以下の表(『Tkinter 8.5 reference: aGUI for Python』(John W.Shipman)より引用)の対応するものにするとよい。  \n",
    "\n",
    "(実際対応してなくても問題なかったりする。(FrameのStyleにBtn.TButtonを呼び出しても使える。公式リファレンスでもあまり触れられず、あやふやな定義だったので、深く考えなくてもいいと思います。))"
   ]
  },
  {
   "cell_type": "markdown",
   "id": "2443b9c2",
   "metadata": {},
   "source": [
    "\n",
    "| Widget class | Style name |\n",
    "|-|-|\n",
    "| Button | TButton |\n",
    "| Checkbutton | TCheckbutton |\n",
    "| Combobox | TCombobox |\n",
    "| Entry | TEntry |\n",
    "| Frame | TFrame |\n",
    "| Label | TLabel |\n",
    "| LabelFrame | TLabelFrame |\n",
    "| Menubutton | TMenubutton |\n",
    "| Notebook | TNotebook |\n",
    "| PanedWindow | TPanedwindow (not TPanedWindow!) |\n",
    "| Progressbar| Horizontal.TProgressbar or Vertical.TProgressbar, depending on the orient option. |\n",
    "| Radiobutton | TRadiobutton |\n",
    "| Scale | Horizontal.TScale or Vertical.TScale, depending on the orient option. |\n",
    "| Scrollbar | Horizontal.TScrollbar or Vertical.TScrollbar, dependingon the orient option. |\n",
    "| Separator| TSeparator |\n",
    "| Sizegrip | TSizegrip |\n",
    "| Treeview | Treeview (not TTreview!) |"
   ]
  },
  {
   "cell_type": "markdown",
   "id": "17989995",
   "metadata": {},
   "source": [
    "### styleの検索方法"
   ]
  },
  {
   "cell_type": "markdown",
   "id": "a78d34c4",
   "metadata": {},
   "source": [
    "検索したいWidgetの.winfo_class()を呼び出せばどんなスタイルを設定できるか検索できる。"
   ]
  },
  {
   "cell_type": "code",
   "execution_count": 9,
   "id": "fd66b035",
   "metadata": {},
   "outputs": [
    {
     "name": "stdout",
     "output_type": "stream",
     "text": [
      "TButton\n"
     ]
    }
   ],
   "source": [
    "#例\n",
    "button = ttk.Button(text = \"widgt　Style Serch\")\n",
    "print(button.winfo_class())"
   ]
  },
  {
   "cell_type": "markdown",
   "id": "594a72f6",
   "metadata": {},
   "source": [
    "例　黒地に白色の文字のテキスト"
   ]
  },
  {
   "cell_type": "markdown",
   "id": "cfaf0455",
   "metadata": {},
   "source": [
    "*1"
   ]
  },
  {
   "cell_type": "code",
   "execution_count": null,
   "id": "23af2176",
   "metadata": {},
   "outputs": [],
   "source": [
    "Style = ttk.Style()\n",
    "Style.configure(\"ttk.TLabel\",background =\"black\",foreground = \"white\" )"
   ]
  },
  {
   "cell_type": "markdown",
   "id": "35c40877",
   "metadata": {},
   "source": [
    "*2"
   ]
  },
  {
   "cell_type": "code",
   "execution_count": null,
   "id": "e95fb068",
   "metadata": {},
   "outputs": [],
   "source": [
    "        self.sample.Label1 = ttk.Label(self.sample,text=\"black?\",style=\"ttk.TLabel\")\n",
    "        self.sample.Label1.grid(row=0,column=0)"
   ]
  },
  {
   "cell_type": "markdown",
   "id": "56b1edd9",
   "metadata": {},
   "source": [
    "# 備考"
   ]
  },
  {
   "cell_type": "markdown",
   "id": "fa965774",
   "metadata": {},
   "source": [
    "jpyterNoteBook の便利な拡張機能のダウンロード （Anaconda環境の時、ほかの環境は検索してみてください。）  \n",
    "索引追加などが出来る。  \n",
    "wasjupyterアップデート https://mebee.info/2020/11/01/post-21852/#outline__3  \n",
    "nbextensionsのダウンロード　https://qiita.com/shilabo/items/a36c2919bdca2aa97623  \n",
    "使い方　https://qiita.com/simonritchie/items/d7dccb798f0b9c8b1ec5  "
   ]
  },
  {
   "cell_type": "markdown",
   "id": "0415b0b5",
   "metadata": {},
   "source": [
    "# 参考 引用元"
   ]
  },
  {
   "cell_type": "markdown",
   "id": "be031e64",
   "metadata": {},
   "source": [
    "『Tkinter  8.5 reference: a GUI for python』(john W.Shipman 2013/12/31)\n",
    "<a id='reference'></a>  \n",
    "https://anzeljg.github.io/rin2/book2/2405/docs/tkinter/index.html\n",
    "\n",
    "上記referenceの初め数項を簡単に意訳追記したもの　tkinter_reference日本語意訳.docx\n",
    "\n",
    "[1]「紫藤のページ」  \n",
    "<a id ='1'></a>\n",
    "https://www.shido.info/py/tkinter2.html"
   ]
  },
  {
   "cell_type": "markdown",
   "id": "ebe80deb",
   "metadata": {},
   "source": [
    "# python コードで書き出しする時"
   ]
  },
  {
   "cell_type": "markdown",
   "id": "e44a7b64",
   "metadata": {},
   "source": [
    "## 準備"
   ]
  },
  {
   "cell_type": "markdown",
   "id": "24d2a5cc",
   "metadata": {},
   "source": [
    "ｔｋはpythonの標準ライブラリなので、サンプルのまま利用するときは、特に新しくインポートするものはありません。"
   ]
  },
  {
   "cell_type": "markdown",
   "id": "4d661e30",
   "metadata": {},
   "source": [
    "## はじめの行に付け足す。(詳しくは\"Shebang\"(シバン)で検索すると出てきます。)"
   ]
  },
  {
   "cell_type": "markdown",
   "id": "e5965475",
   "metadata": {},
   "source": [
    "### Utf－8で読み込むようにする。"
   ]
  },
  {
   "cell_type": "code",
   "execution_count": null,
   "id": "f934140a",
   "metadata": {},
   "outputs": [],
   "source": [
    "# -*- coding:utf-8 -*-"
   ]
  },
  {
   "cell_type": "markdown",
   "id": "8874ea0d",
   "metadata": {},
   "source": [
    "### 実行する環境指定."
   ]
  },
  {
   "cell_type": "markdown",
   "id": "eb71225f",
   "metadata": {},
   "source": [
    "(aaa という仮想環境で実行しようとするとき)"
   ]
  },
  {
   "cell_type": "markdown",
   "id": "c8b7881e",
   "metadata": {},
   "source": [
    "環境指定方法"
   ]
  },
  {
   "cell_type": "markdown",
   "id": "a6621444",
   "metadata": {},
   "source": [
    "aaaと言う名前の仮想環境でpython3 で実行するときの例、  \n",
    "以下のように書くとどのディレクトリで開いて実行しても、  \n",
    "source aaa/bin/activate で仮想環境に入り、  \n",
    "そこで python3 ○○.py で実行したときとどうように実行できる。"
   ]
  },
  {
   "cell_type": "code",
   "execution_count": null,
   "id": "6df21c0f",
   "metadata": {},
   "outputs": [],
   "source": [
    "#!/user/aaa/bin/env python3 "
   ]
  },
  {
   "cell_type": "markdown",
   "id": "a7fbd4b0",
   "metadata": {},
   "source": [
    "### 実行するpythonのバージョン指定方法"
   ]
  },
  {
   "cell_type": "code",
   "execution_count": null,
   "id": "85077a92",
   "metadata": {},
   "outputs": [],
   "source": [
    "#!python3.7 # 使用したいpython のバージョン"
   ]
  },
  {
   "cell_type": "markdown",
   "id": "d5e1598d",
   "metadata": {},
   "source": [
    "## 最後の3行を書き換える"
   ]
  },
  {
   "cell_type": "code",
   "execution_count": null,
   "id": "65b5ac1d",
   "metadata": {},
   "outputs": [],
   "source": [
    "if __name__ == \"__main__\":\n",
    "    _app = _MainFrame()\n",
    "    _app.master.title(_app.name)\n",
    "    _app.mainloop()"
   ]
  },
  {
   "cell_type": "markdown",
   "id": "299ebea6",
   "metadata": {},
   "source": [
    "## 記述例"
   ]
  },
  {
   "cell_type": "code",
   "execution_count": null,
   "id": "c8c24c20",
   "metadata": {},
   "outputs": [],
   "source": [
    "# -*- coding:utf-8 -*-\n",
    "# python\n",
    "\n",
    "#main_code \n",
    "from tkinter import *\n",
    "from tkinter import ttk\n",
    "import tkinter.font\n",
    "\n",
    "\n",
    "#Style_Setting=======================================\n",
    "Style = ttk.Style()\n",
    "Style.configure(\"M1.TFrame\",background = \"#6ac9f4\")\n",
    "Style.configure(\"User.TFrame\",background = \"#c7f9fd\")\n",
    "Style.configure(\"UseFrame.TLabelframe\",background = \"#fff\")#親要素\n",
    "Style.configure(\"UseFrame.TLabelframe.Label\",background=\"#fff\",foreground=\"#000\")#子要素\n",
    "Style.configure(\"FS4.TFrame\",background = \"#ebebeb\")\n",
    "\n",
    "Style.configure(\"ttkS.TLabel\",background =\"black\",foreground = \"white\" )\n",
    "#====================================================\n",
    "class _MainFrame(Frame):\n",
    "    def __init__(self,master=None):\n",
    "        Frame.__init__(self,master)\n",
    "        \n",
    "        self.master.minsize(width = 320,height = 180)\n",
    "        self.grid(sticky=N+S+E+W)\n",
    "        self.name = StringVar()\n",
    "        \n",
    "        self.name = \"GUI\"#windowの名前\n",
    "        #instances=====================================\n",
    "        #==============================================\n",
    "        self._MainSet()\n",
    "        self._SetWidgets()\n",
    "        \n",
    "    def _SetWidgets(self):\n",
    "        #define_widgets=========================================\n",
    "        self._MakeFrame(\"sample\")\n",
    "        self.sample.Button1 = Button(self.sample,text=\"test\",command=test)\n",
    "        self.sample.Button1.grid(row=0,column=0)\n",
    "        #=======================================================\n",
    "    def _MainSet(self):\n",
    "        Top=self.winfo_toplevel()\n",
    "        Top.configure(bg=\"\")\n",
    "        Top.grid_columnconfigure(0,weight=1)\n",
    "        Top.grid_rowconfigure(2,weight=1)\n",
    "        self.H1 = ttk.Frame(Top,padding=4)\n",
    "        self.H1.grid(row=0,sticky=N+E+W+S)\n",
    "        \n",
    "        self.H1.grid_columnconfigure(0, weight=0)\n",
    "        self.H1.grid_columnconfigure(1, weight=1)\n",
    "        self.H1.grid_columnconfigure(2, weight=0)\n",
    "        \n",
    "        Name_Font = tkinter.font.Font(family = \"Menlo\",size = 16,weight = tkinter.font.BOLD)\n",
    "        self.H1.Name = Label(self.H1,text = self.name,font = Name_Font).grid(row=0,column=0, sticky=E)\n",
    "        self.H1.Text = Label(self.H1,text = \"label\",font = tkinter.font.Font(size = 10)).grid(row=0,column=1, sticky=W)\n",
    "        self.H1.Quitbutton = Button(self.H1,text=\"Quit\",command = self.quit).grid(row=0,column=2, sticky=W)\n",
    "        \n",
    "        self.M1 = ttk.Frame(Top,style = \"M1.TFrame\")\n",
    "        self.M1.grid(row = 1,sticky=N+E+W+S)\n",
    "        self.M1.count = 0\n",
    "        \n",
    "        self.UserFrame = ttk.Frame(Top,padding = [5,0],style =\"User.TFrame\" )\n",
    "        self.UserFrame.grid(row = 2,column = 0,sticky = N+E+W+S)\n",
    "        self.UserFrame.grid_rowconfigure(0, weight=1)\n",
    "        self.UserFrame.grid_columnconfigure(0, weight=1)\n",
    "\n",
    "    def _MakeFrame(self,name):\n",
    "        self._OffPalse()\n",
    "        code0 = \"self.\"+ name + \"= ttk.LabelFrame(self.UserFrame,style=\\\"UseFrame.TLabelframe\\\",text=\\\"\"+name+\"\\\",padding=[0,5],relief=\\\"flat\\\")\"\n",
    "        code1 = \"self.\"+ name + \".grid(row=0,column=0,sticky = N+E+W+S)\"\n",
    "        exec(code0)\n",
    "        exec(code1)\n",
    "        self._M1button(name)\n",
    "    def _M1button(self,Frame):\n",
    "        code0 = \"self.M1.\"+Frame+\"=Button(self.M1,text=\"+\"\\\"\"+Frame+\"\\\",command = self._combineFunc(self._OffPalse,self.\"+Frame+\".grid))\"\n",
    "        code1 = \"self.M1.\"+Frame+\".grid(row = 0,column=\"+str(self.M1.count)+\")\"\n",
    "        code2 = \"self.M1.\"+Frame+\".column=\"+str(self.M1.count)\n",
    "        code3 = \"self.M1.\"+Frame+\".state=\\\"Appear\\\"\"\n",
    "        code4 = \"self.M1.\"+Frame+\".freame=\\\"self.UserFrame.\"+Frame+\"\\\"\"\n",
    "        exec(code0)\n",
    "        exec(code1)\n",
    "        exec(code2)\n",
    "        exec(code3)\n",
    "        exec(code4)\n",
    "        self.M1.count += 1\n",
    "    def _OffPalse(self):\n",
    "        widgetlist = self.UserFrame.grid_slaves()\n",
    "        for wid in widgetlist:\n",
    "            wid.grid_remove()\n",
    "    def _combineFunc(self, *funcs):\n",
    "       def combinedFunc(*args, **kwargs):\n",
    "            for f in funcs:\n",
    "                f(*args, **kwargs)\n",
    "       return combinedFunc\n",
    "    #User_commands1===================================\n",
    "\n",
    "    #================================================\n",
    "\n",
    "\n",
    "#User_commands2===================================\n",
    "def test():\n",
    "    print(\"test\")\n",
    "#================================================\n",
    "\n",
    "\n",
    "\n",
    "if __name__ = \"__main__\":\n",
    "    _app = _MainFrame()\n",
    "    _app.master.title(_app.name)\n",
    "    _app.mainloop()"
   ]
  },
  {
   "cell_type": "code",
   "execution_count": null,
   "id": "f9b212c6",
   "metadata": {},
   "outputs": [],
   "source": []
  },
  {
   "cell_type": "markdown",
   "id": "0cfb92e9",
   "metadata": {},
   "source": [
    "# 実装例いろいろ"
   ]
  },
  {
   "cell_type": "markdown",
   "id": "e9d278d8",
   "metadata": {},
   "source": [
    "## png を読み込んでボタンに表示する。"
   ]
  },
  {
   "cell_type": "code",
   "execution_count": 2,
   "id": "ba565e06",
   "metadata": {},
   "outputs": [
    {
     "ename": "SyntaxError",
     "evalue": "invalid character in identifier (<ipython-input-2-f7ad811dc1ec>, line 1)",
     "output_type": "error",
     "traceback": [
      "\u001b[1;36m  File \u001b[1;32m\"<ipython-input-2-f7ad811dc1ec>\"\u001b[1;36m, line \u001b[1;32m1\u001b[0m\n\u001b[1;33m    import tkinter as tk\u001b[0m\n\u001b[1;37m                       ^\u001b[0m\n\u001b[1;31mSyntaxError\u001b[0m\u001b[1;31m:\u001b[0m invalid character in identifier\n"
     ]
    }
   ],
   "source": [
    "import tkinter as tk\n",
    "from tkinter import ttk\n",
    "from tkinter.messagebox import showinfo\n",
    "\n",
    "\n",
    "# root window\n",
    "root = tk.Tk()\n",
    "root.geometry('300x200')\n",
    "root.resizable(False, False)\n",
    "root.title('Image Button Demo')\n",
    "\n",
    "\n",
    "# download button\n",
    "def download_clicked():\n",
    "    showinfo(\n",
    "        title='Information',\n",
    "        message='Download button clicked!'\n",
    "    )\n",
    "\n",
    "\n",
    "download_icon = tk.PhotoImage(file='./assets/download.png')##挿入したい画像のパス\n",
    "download_button = ttk.Button(\n",
    "    root,\n",
    "    image=download_icon,\n",
    "    command=download_clicked\n",
    ")\n",
    "\n",
    "download_button.pack(\n",
    "    ipadx=5,\n",
    "    ipady=5,\n",
    "    expand=True\n",
    ")\n",
    "\n",
    "\n",
    "root.mainloop()"
   ]
  },
  {
   "cell_type": "markdown",
   "id": "168c2cc3",
   "metadata": {},
   "source": [
    "ダブルクリック"
   ]
  },
  {
   "cell_type": "code",
   "execution_count": 1,
   "id": "d09a30aa",
   "metadata": {},
   "outputs": [
    {
     "name": "stdout",
     "output_type": "stream",
     "text": [
      "Event: <ButtonPress event num=1 x=27 y=65> Selection: True\n",
      "Event: <ButtonPress event num=1 x=22 y=54> Selection: True\n",
      "Event: <ButtonPress event num=1 x=13 y=51> Selection: True\n",
      "Event: <ButtonPress event num=1 x=13 y=47> Selection: False\n",
      "Event: <ButtonPress event num=1 x=13 y=47> Selection: False\n",
      "Event: <ButtonPress event num=1 x=13 y=47> Selection: False\n",
      "Event: <ButtonPress event num=1 x=13 y=47> Selection: False\n",
      "Event: <ButtonPress event num=1 x=13 y=47> Selection: False\n",
      "Event: <ButtonPress event num=1 x=13 y=47> Selection: False\n",
      "Event: <ButtonPress event num=1 x=13 y=47> Selection: False\n",
      "Event: <ButtonPress event num=1 x=13 y=47> Selection: False\n",
      "Event: <ButtonPress event num=1 x=11 y=43> Selection: False\n",
      "Event: <ButtonPress event num=1 x=11 y=43> Selection: False\n",
      "Event: <ButtonPress event num=1 x=11 y=43> Selection: True\n",
      "Event: <ButtonPress event num=1 x=9 y=86> Selection: True\n",
      "Event: <ButtonPress event num=1 x=11 y=36> Selection: True\n",
      "Event: <ButtonPress event num=1 x=11 y=8> Selection: True\n",
      "Event: <ButtonPress event num=1 x=11 y=8> Selection: False\n",
      "Event: <ButtonPress event num=1 x=11 y=8> Selection: False\n",
      "Event: <ButtonPress event num=1 x=11 y=8> Selection: False\n",
      "Event: <ButtonPress event num=1 x=11 y=8> Selection: False\n",
      "Event: <ButtonPress event num=1 x=11 y=8> Selection: False\n",
      "Event: <ButtonPress event num=1 x=11 y=8> Selection: False\n",
      "Event: <ButtonPress event num=1 x=11 y=8> Selection: False\n",
      "Event: <ButtonPress event num=1 x=11 y=8> Selection: False\n",
      "Event: <ButtonPress event num=1 x=11 y=8> Selection: False\n",
      "Event: <ButtonPress event num=1 x=11 y=8> Selection: False\n",
      "Event: <ButtonPress event num=1 x=22 y=104> Selection: True\n",
      "Event: <ButtonPress event num=1 x=22 y=104> Selection: False\n",
      "Event: <ButtonPress event num=1 x=22 y=104> Selection: False\n",
      "Event: <ButtonPress event num=1 x=22 y=104> Selection: False\n",
      "Event: <ButtonPress event num=1 x=22 y=104> Selection: False\n",
      "Event: <ButtonPress event num=1 x=22 y=104> Selection: False\n",
      "Event: <ButtonPress event num=1 x=22 y=104> Selection: False\n",
      "Event: <ButtonPress event num=1 x=22 y=104> Selection: False\n",
      "Event: <ButtonPress event num=1 x=22 y=104> Selection: False\n",
      "Event: <ButtonPress event num=1 x=22 y=104> Selection: False\n",
      "Event: <ButtonPress event num=1 x=22 y=104> Selection: False\n",
      "Event: <ButtonPress event num=1 x=22 y=104> Selection: False\n",
      "Event: <ButtonPress event num=1 x=22 y=104> Selection: False\n",
      "Event: <ButtonPress event num=1 x=22 y=104> Selection: False\n",
      "Event: <ButtonPress event num=1 x=22 y=104> Selection: False\n",
      "Event: <ButtonPress event num=1 x=22 y=104> Selection: False\n",
      "Event: <ButtonPress event num=1 x=22 y=104> Selection: False\n",
      "Event: <ButtonPress event num=1 x=22 y=104> Selection: False\n",
      "Event: <ButtonPress event num=1 x=22 y=104> Selection: False\n",
      "Event: <ButtonPress event num=1 x=22 y=104> Selection: False\n",
      "Event: <ButtonPress event num=1 x=23 y=92> Selection: True\n",
      "Event: <ButtonPress event num=1 x=22 y=132> Selection: True\n",
      "Event: <ButtonPress event num=1 x=37 y=120> Selection: True\n",
      "Event: <ButtonPress event num=1 x=35 y=106> Selection: True\n",
      "Event: <ButtonPress event num=1 x=34 y=116> Selection: True\n",
      "Event: <ButtonPress event num=1 x=34 y=116> Selection: False\n",
      "Event: <ButtonPress event num=1 x=34 y=116> Selection: False\n",
      "Event: <ButtonPress event num=1 x=34 y=116> Selection: False\n",
      "Event: <ButtonPress event num=1 x=34 y=116> Selection: False\n",
      "Event: <ButtonPress event num=1 x=34 y=116> Selection: False\n",
      "Event: <ButtonPress event num=1 x=101 y=97> Selection: True\n",
      "Event: <ButtonPress event num=1 x=101 y=97> Selection: False\n",
      "Event: <ButtonPress event num=1 x=101 y=97> Selection: False\n",
      "Event: <ButtonPress event num=1 x=101 y=97> Selection: False\n",
      "Event: <ButtonPress event num=1 x=101 y=97> Selection: False\n",
      "Event: <ButtonPress event num=1 x=101 y=97> Selection: False\n",
      "Event: <ButtonPress event num=1 x=101 y=97> Selection: False\n",
      "Event: <ButtonPress event num=1 x=101 y=97> Selection: False\n",
      "Event: <ButtonPress event num=1 x=101 y=97> Selection: False\n",
      "Event: <ButtonPress event num=1 x=101 y=97> Selection: False\n",
      "Event: <ButtonPress event num=1 x=101 y=97> Selection: False\n",
      "Event: <ButtonPress event num=1 x=101 y=97> Selection: False\n",
      "Event: <ButtonPress event num=1 x=101 y=97> Selection: False\n",
      "Event: <ButtonPress event num=1 x=101 y=97> Selection: False\n",
      "Event: <ButtonPress event num=1 x=101 y=97> Selection: True\n",
      "Event: <ButtonPress event num=1 x=101 y=97> Selection: False\n",
      "Event: <ButtonPress event num=1 x=101 y=97> Selection: False\n",
      "Event: <ButtonPress event num=1 x=101 y=97> Selection: True\n",
      "Event: <ButtonPress event num=1 x=101 y=97> Selection: True\n",
      "Event: <ButtonPress event num=1 x=101 y=97> Selection: True\n",
      "Event: <ButtonPress event num=1 x=38 y=81> Selection: True\n",
      "Event: <ButtonPress event num=1 x=36 y=124> Selection: True\n"
     ]
    }
   ],
   "source": [
    "import tkinter as tk\n",
    "import random\n",
    "def fill_box(event):\n",
    "    \"\"\"Clear and refresh listbox\"\"\"\n",
    "    try:\n",
    "        listbox.get(listbox.curselection()[0])\n",
    "        selection = True\n",
    "    except IndexError:\n",
    "        selection = False\n",
    "    print(\"Event:\", event, \"Selection:\", selection)\n",
    "    listbox.delete(0, tk.END)\n",
    "    for _ in range(10):\n",
    "        listbox.insert(tk.END, random.randint(0, 1000))\n",
    "root = tk.Tk()\n",
    "listbox = tk.Listbox(root)\n",
    "for _ in range(10):\n",
    "    listbox.insert(tk.END, random.randint(0, 1000))\n",
    "listbox.bind(\"<Double-Button-1>\", fill_box)\n",
    "# listbox.bind(\"<Triple-Button-1>\", lambda x: 1)  # Triple click\n",
    "listbox.pack()\n",
    "root.mainloop()"
   ]
  },
  {
   "cell_type": "code",
   "execution_count": null,
   "id": "afab32a2",
   "metadata": {},
   "outputs": [],
   "source": []
  }
 ],
 "metadata": {
  "kernelspec": {
   "display_name": "Python 3",
   "language": "python",
   "name": "python3"
  },
  "language_info": {
   "codemirror_mode": {
    "name": "ipython",
    "version": 3
   },
   "file_extension": ".py",
   "mimetype": "text/x-python",
   "name": "python",
   "nbconvert_exporter": "python",
   "pygments_lexer": "ipython3",
   "version": "3.8.8"
  },
  "toc": {
   "base_numbering": 1,
   "nav_menu": {},
   "number_sections": true,
   "sideBar": true,
   "skip_h1_title": false,
   "title_cell": "Table of Contents",
   "title_sidebar": "Contents",
   "toc_cell": false,
   "toc_position": {
    "height": "767px",
    "left": "6px",
    "top": "111.125px",
    "width": "236px"
   },
   "toc_section_display": true,
   "toc_window_display": true
  }
 },
 "nbformat": 4,
 "nbformat_minor": 5
}
